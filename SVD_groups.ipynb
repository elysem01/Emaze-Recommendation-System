{
 "cells": [
  {
   "cell_type": "code",
   "execution_count": 1,
   "metadata": {},
   "outputs": [],
   "source": [
    "from IPython.display import Image\n",
    "import pandas as pd\n",
    "import numpy as np\n",
    "import seaborn as sns\n",
    "sns.set()\n",
    "\n",
    "import warnings\n",
    "warnings.simplefilter(\"ignore\")"
   ]
  },
  {
   "cell_type": "markdown",
   "metadata": {},
   "source": [
    "## EmazeMeGroups"
   ]
  },
  {
   "cell_type": "code",
   "execution_count": null,
   "metadata": {},
   "outputs": [],
   "source": [
    "groups = pd.read_csv('data/EmazeMeGroups.csv')"
   ]
  },
  {
   "cell_type": "code",
   "execution_count": 27,
   "metadata": {},
   "outputs": [
    {
     "data": {
      "text/html": [
       "<div>\n",
       "<style scoped>\n",
       "    .dataframe tbody tr th:only-of-type {\n",
       "        vertical-align: middle;\n",
       "    }\n",
       "\n",
       "    .dataframe tbody tr th {\n",
       "        vertical-align: top;\n",
       "    }\n",
       "\n",
       "    .dataframe thead th {\n",
       "        text-align: right;\n",
       "    }\n",
       "</style>\n",
       "<table border=\"1\" class=\"dataframe\">\n",
       "  <thead>\n",
       "    <tr style=\"text-align: right;\">\n",
       "      <th></th>\n",
       "      <th>EmazeMeGroupID</th>\n",
       "      <th>GroupName</th>\n",
       "      <th>Admin</th>\n",
       "      <th>Privecy</th>\n",
       "      <th>Visibility</th>\n",
       "      <th>priority</th>\n",
       "      <th>varified</th>\n",
       "      <th>AssociatedGroupsJson</th>\n",
       "      <th>ModeratorsJson</th>\n",
       "      <th>DateCreated</th>\n",
       "      <th>DateUpdated</th>\n",
       "      <th>AboutGroup</th>\n",
       "      <th>EmazeSite</th>\n",
       "      <th>GroupCoverUrl</th>\n",
       "      <th>GroupPhotoUrl</th>\n",
       "      <th>SiteThumnail</th>\n",
       "    </tr>\n",
       "  </thead>\n",
       "  <tbody>\n",
       "    <tr>\n",
       "      <td>0</td>\n",
       "      <td>1</td>\n",
       "      <td>BeitarJerusalem</td>\n",
       "      <td>d1f13501-60bf-4dd8-b6e8-c11d2f8eab8c</td>\n",
       "      <td>1</td>\n",
       "      <td>0</td>\n",
       "      <td>0</td>\n",
       "      <td>0</td>\n",
       "      <td>NaN</td>\n",
       "      <td>NaN</td>\n",
       "      <td>27:38.1</td>\n",
       "      <td>27:38.1</td>\n",
       "      <td>Group of Beitar players</td>\n",
       "      <td>https://emaze.me/diogoverdasca</td>\n",
       "      <td>//userscontent2.emaze.com/userinfo//cover/2dc9...</td>\n",
       "      <td>//userscontent2.emaze.com/userinfo//image/7c4d...</td>\n",
       "      <td>//storage.googleapis.com/userscontent2.emaze.c...</td>\n",
       "    </tr>\n",
       "    <tr>\n",
       "      <td>1</td>\n",
       "      <td>2</td>\n",
       "      <td>BeitarFans</td>\n",
       "      <td>d1f13501-60bf-4dd8-b6e8-c11d2f8eab8c</td>\n",
       "      <td>1</td>\n",
       "      <td>0</td>\n",
       "      <td>0</td>\n",
       "      <td>0</td>\n",
       "      <td>NaN</td>\n",
       "      <td>NaN</td>\n",
       "      <td>27:38.1</td>\n",
       "      <td>27:38.1</td>\n",
       "      <td>Group for fans of Beitar Jerusalem f.c.</td>\n",
       "      <td>NaN</td>\n",
       "      <td>//userscontent2.emaze.com/userinfo//cover/b397...</td>\n",
       "      <td>//userscontent2.emaze.com/userinfo//image/1e5a...</td>\n",
       "      <td>NaN</td>\n",
       "    </tr>\n",
       "    <tr>\n",
       "      <td>2</td>\n",
       "      <td>3</td>\n",
       "      <td>newgroupwithdate2</td>\n",
       "      <td>NaN</td>\n",
       "      <td>0</td>\n",
       "      <td>0</td>\n",
       "      <td>0</td>\n",
       "      <td>0</td>\n",
       "      <td>NaN</td>\n",
       "      <td>NaN</td>\n",
       "      <td>00:36.2</td>\n",
       "      <td>00:36.2</td>\n",
       "      <td>NaN</td>\n",
       "      <td>NaN</td>\n",
       "      <td>NaN</td>\n",
       "      <td>NaN</td>\n",
       "      <td>NaN</td>\n",
       "    </tr>\n",
       "    <tr>\n",
       "      <td>3</td>\n",
       "      <td>4</td>\n",
       "      <td>another-group</td>\n",
       "      <td>NaN</td>\n",
       "      <td>0</td>\n",
       "      <td>0</td>\n",
       "      <td>0</td>\n",
       "      <td>0</td>\n",
       "      <td>NaN</td>\n",
       "      <td>NaN</td>\n",
       "      <td>57:01.8</td>\n",
       "      <td>57:01.8</td>\n",
       "      <td>NaN</td>\n",
       "      <td>NaN</td>\n",
       "      <td>NaN</td>\n",
       "      <td>NaN</td>\n",
       "      <td>NaN</td>\n",
       "    </tr>\n",
       "    <tr>\n",
       "      <td>4</td>\n",
       "      <td>5</td>\n",
       "      <td>\"\"</td>\n",
       "      <td>NaN</td>\n",
       "      <td>0</td>\n",
       "      <td>0</td>\n",
       "      <td>0</td>\n",
       "      <td>0</td>\n",
       "      <td>NaN</td>\n",
       "      <td>NaN</td>\n",
       "      <td>44:39.2</td>\n",
       "      <td>44:39.2</td>\n",
       "      <td>NaN</td>\n",
       "      <td>NaN</td>\n",
       "      <td>NaN</td>\n",
       "      <td>NaN</td>\n",
       "      <td>NaN</td>\n",
       "    </tr>\n",
       "  </tbody>\n",
       "</table>\n",
       "</div>"
      ],
      "text/plain": [
       "   EmazeMeGroupID          GroupName                                 Admin  \\\n",
       "0               1    BeitarJerusalem  d1f13501-60bf-4dd8-b6e8-c11d2f8eab8c   \n",
       "1               2         BeitarFans  d1f13501-60bf-4dd8-b6e8-c11d2f8eab8c   \n",
       "2               3  newgroupwithdate2                                   NaN   \n",
       "3               4      another-group                                   NaN   \n",
       "4               5                 \"\"                                   NaN   \n",
       "\n",
       "   Privecy  Visibility  priority  varified  AssociatedGroupsJson  \\\n",
       "0        1           0         0         0                   NaN   \n",
       "1        1           0         0         0                   NaN   \n",
       "2        0           0         0         0                   NaN   \n",
       "3        0           0         0         0                   NaN   \n",
       "4        0           0         0         0                   NaN   \n",
       "\n",
       "   ModeratorsJson DateCreated DateUpdated  \\\n",
       "0             NaN     27:38.1     27:38.1   \n",
       "1             NaN     27:38.1     27:38.1   \n",
       "2             NaN     00:36.2     00:36.2   \n",
       "3             NaN     57:01.8     57:01.8   \n",
       "4             NaN     44:39.2     44:39.2   \n",
       "\n",
       "                                AboutGroup                       EmazeSite  \\\n",
       "0                  Group of Beitar players  https://emaze.me/diogoverdasca   \n",
       "1  Group for fans of Beitar Jerusalem f.c.                             NaN   \n",
       "2                                      NaN                             NaN   \n",
       "3                                      NaN                             NaN   \n",
       "4                                      NaN                             NaN   \n",
       "\n",
       "                                       GroupCoverUrl  \\\n",
       "0  //userscontent2.emaze.com/userinfo//cover/2dc9...   \n",
       "1  //userscontent2.emaze.com/userinfo//cover/b397...   \n",
       "2                                                NaN   \n",
       "3                                                NaN   \n",
       "4                                                NaN   \n",
       "\n",
       "                                       GroupPhotoUrl  \\\n",
       "0  //userscontent2.emaze.com/userinfo//image/7c4d...   \n",
       "1  //userscontent2.emaze.com/userinfo//image/1e5a...   \n",
       "2                                                NaN   \n",
       "3                                                NaN   \n",
       "4                                                NaN   \n",
       "\n",
       "                                        SiteThumnail  \n",
       "0  //storage.googleapis.com/userscontent2.emaze.c...  \n",
       "1                                                NaN  \n",
       "2                                                NaN  \n",
       "3                                                NaN  \n",
       "4                                                NaN  "
      ]
     },
     "execution_count": 27,
     "metadata": {},
     "output_type": "execute_result"
    }
   ],
   "source": [
    "groups.head()"
   ]
  },
  {
   "cell_type": "code",
   "execution_count": 28,
   "metadata": {},
   "outputs": [],
   "source": [
    "groups = groups.rename(columns = {'GroupID':'EmazeMeGroupID'})"
   ]
  },
  {
   "cell_type": "markdown",
   "metadata": {},
   "source": [
    "## EmazeMeGroupFollowers"
   ]
  },
  {
   "cell_type": "code",
   "execution_count": 30,
   "metadata": {},
   "outputs": [],
   "source": [
    "group_f = pd.read_csv('data/EmazeMeGroupFollowers.csv')"
   ]
  },
  {
   "cell_type": "code",
   "execution_count": 31,
   "metadata": {},
   "outputs": [
    {
     "data": {
      "text/html": [
       "<div>\n",
       "<style scoped>\n",
       "    .dataframe tbody tr th:only-of-type {\n",
       "        vertical-align: middle;\n",
       "    }\n",
       "\n",
       "    .dataframe tbody tr th {\n",
       "        vertical-align: top;\n",
       "    }\n",
       "\n",
       "    .dataframe thead th {\n",
       "        text-align: right;\n",
       "    }\n",
       "</style>\n",
       "<table border=\"1\" class=\"dataframe\">\n",
       "  <thead>\n",
       "    <tr style=\"text-align: right;\">\n",
       "      <th></th>\n",
       "      <th>FollowId</th>\n",
       "      <th>FollowerId</th>\n",
       "      <th>EmazeMeGroupId</th>\n",
       "      <th>FollowingSince</th>\n",
       "    </tr>\n",
       "  </thead>\n",
       "  <tbody>\n",
       "    <tr>\n",
       "      <td>0</td>\n",
       "      <td>3</td>\n",
       "      <td>240238a0-ce99-4ea7-ac77-eff09fb5eff2</td>\n",
       "      <td>1</td>\n",
       "      <td>0001-01-01 00:00:00.0000000</td>\n",
       "    </tr>\n",
       "    <tr>\n",
       "      <td>1</td>\n",
       "      <td>4</td>\n",
       "      <td>240238a0-ce99-4ea7-ac77-eff09fb5eff2</td>\n",
       "      <td>2</td>\n",
       "      <td>0001-01-01 00:00:00.0000000</td>\n",
       "    </tr>\n",
       "    <tr>\n",
       "      <td>2</td>\n",
       "      <td>5</td>\n",
       "      <td>e9477dec-c960-4f11-a563-9781cf8b1c15</td>\n",
       "      <td>1</td>\n",
       "      <td>0001-01-01 00:00:00.0000000</td>\n",
       "    </tr>\n",
       "    <tr>\n",
       "      <td>3</td>\n",
       "      <td>6</td>\n",
       "      <td>e9477dec-c960-4f11-a563-9781cf8b1c15</td>\n",
       "      <td>2</td>\n",
       "      <td>0001-01-01 00:00:00.0000000</td>\n",
       "    </tr>\n",
       "    <tr>\n",
       "      <td>4</td>\n",
       "      <td>7</td>\n",
       "      <td>93aff917-ec28-4201-b1d2-788e275671b2</td>\n",
       "      <td>1</td>\n",
       "      <td>0001-01-01 00:00:00.0000000</td>\n",
       "    </tr>\n",
       "  </tbody>\n",
       "</table>\n",
       "</div>"
      ],
      "text/plain": [
       "   FollowId                            FollowerId  EmazeMeGroupId  \\\n",
       "0         3  240238a0-ce99-4ea7-ac77-eff09fb5eff2               1   \n",
       "1         4  240238a0-ce99-4ea7-ac77-eff09fb5eff2               2   \n",
       "2         5  e9477dec-c960-4f11-a563-9781cf8b1c15               1   \n",
       "3         6  e9477dec-c960-4f11-a563-9781cf8b1c15               2   \n",
       "4         7  93aff917-ec28-4201-b1d2-788e275671b2               1   \n",
       "\n",
       "                FollowingSince  \n",
       "0  0001-01-01 00:00:00.0000000  \n",
       "1  0001-01-01 00:00:00.0000000  \n",
       "2  0001-01-01 00:00:00.0000000  \n",
       "3  0001-01-01 00:00:00.0000000  \n",
       "4  0001-01-01 00:00:00.0000000  "
      ]
     },
     "execution_count": 31,
     "metadata": {},
     "output_type": "execute_result"
    }
   ],
   "source": [
    "group_f.head()"
   ]
  },
  {
   "cell_type": "code",
   "execution_count": 32,
   "metadata": {},
   "outputs": [],
   "source": [
    "#create a values column for the matrix, make everything 1 since already followed\n",
    "group_f['following'] = 1"
   ]
  },
  {
   "cell_type": "code",
   "execution_count": 33,
   "metadata": {},
   "outputs": [],
   "source": [
    "#dictionary for groupid to groupname\n",
    "item_dict = dict(zip(groups['EmazeMeGroupID'], groups['GroupName']))"
   ]
  },
  {
   "cell_type": "markdown",
   "metadata": {},
   "source": [
    "## Create sparse FollowerId and Quantity matrix"
   ]
  },
  {
   "cell_type": "code",
   "execution_count": 34,
   "metadata": {},
   "outputs": [],
   "source": [
    "group_matrix_df = group_f.pivot_table(\n",
    "    values='following', \n",
    "    index='FollowerId', \n",
    "    columns='EmazeMeGroupId'\n",
    ")"
   ]
  },
  {
   "cell_type": "code",
   "execution_count": 35,
   "metadata": {},
   "outputs": [
    {
     "data": {
      "text/html": [
       "<div>\n",
       "<style scoped>\n",
       "    .dataframe tbody tr th:only-of-type {\n",
       "        vertical-align: middle;\n",
       "    }\n",
       "\n",
       "    .dataframe tbody tr th {\n",
       "        vertical-align: top;\n",
       "    }\n",
       "\n",
       "    .dataframe thead th {\n",
       "        text-align: right;\n",
       "    }\n",
       "</style>\n",
       "<table border=\"1\" class=\"dataframe\">\n",
       "  <thead>\n",
       "    <tr style=\"text-align: right;\">\n",
       "      <th>EmazeMeGroupId</th>\n",
       "      <th>1</th>\n",
       "      <th>2</th>\n",
       "      <th>13</th>\n",
       "      <th>14</th>\n",
       "      <th>15</th>\n",
       "      <th>26</th>\n",
       "      <th>30</th>\n",
       "    </tr>\n",
       "    <tr>\n",
       "      <th>FollowerId</th>\n",
       "      <th></th>\n",
       "      <th></th>\n",
       "      <th></th>\n",
       "      <th></th>\n",
       "      <th></th>\n",
       "      <th></th>\n",
       "      <th></th>\n",
       "    </tr>\n",
       "  </thead>\n",
       "  <tbody>\n",
       "    <tr>\n",
       "      <td>09d32136-ed59-49fd-b553-5c1448aa92fd</td>\n",
       "      <td>NaN</td>\n",
       "      <td>NaN</td>\n",
       "      <td>NaN</td>\n",
       "      <td>NaN</td>\n",
       "      <td>NaN</td>\n",
       "      <td>1.0</td>\n",
       "      <td>NaN</td>\n",
       "    </tr>\n",
       "    <tr>\n",
       "      <td>1c1994c7-9bb0-477d-83dd-dc0d6f822c10</td>\n",
       "      <td>NaN</td>\n",
       "      <td>NaN</td>\n",
       "      <td>NaN</td>\n",
       "      <td>NaN</td>\n",
       "      <td>NaN</td>\n",
       "      <td>1.0</td>\n",
       "      <td>NaN</td>\n",
       "    </tr>\n",
       "    <tr>\n",
       "      <td>240238a0-ce99-4ea7-ac77-eff09fb5eff2</td>\n",
       "      <td>1.0</td>\n",
       "      <td>1.0</td>\n",
       "      <td>NaN</td>\n",
       "      <td>1.0</td>\n",
       "      <td>1.0</td>\n",
       "      <td>NaN</td>\n",
       "      <td>NaN</td>\n",
       "    </tr>\n",
       "    <tr>\n",
       "      <td>2415e720-8d4c-44c7-9cbf-cb1e76dcf4e8</td>\n",
       "      <td>NaN</td>\n",
       "      <td>NaN</td>\n",
       "      <td>NaN</td>\n",
       "      <td>NaN</td>\n",
       "      <td>NaN</td>\n",
       "      <td>1.0</td>\n",
       "      <td>NaN</td>\n",
       "    </tr>\n",
       "    <tr>\n",
       "      <td>24c1d879-cb12-4582-87b1-982c3b9ef4e8</td>\n",
       "      <td>NaN</td>\n",
       "      <td>NaN</td>\n",
       "      <td>NaN</td>\n",
       "      <td>NaN</td>\n",
       "      <td>NaN</td>\n",
       "      <td>1.0</td>\n",
       "      <td>NaN</td>\n",
       "    </tr>\n",
       "  </tbody>\n",
       "</table>\n",
       "</div>"
      ],
      "text/plain": [
       "EmazeMeGroupId                         1    2   13   14   15   26  30\n",
       "FollowerId                                                           \n",
       "09d32136-ed59-49fd-b553-5c1448aa92fd  NaN  NaN NaN  NaN  NaN  1.0 NaN\n",
       "1c1994c7-9bb0-477d-83dd-dc0d6f822c10  NaN  NaN NaN  NaN  NaN  1.0 NaN\n",
       "240238a0-ce99-4ea7-ac77-eff09fb5eff2  1.0  1.0 NaN  1.0  1.0  NaN NaN\n",
       "2415e720-8d4c-44c7-9cbf-cb1e76dcf4e8  NaN  NaN NaN  NaN  NaN  1.0 NaN\n",
       "24c1d879-cb12-4582-87b1-982c3b9ef4e8  NaN  NaN NaN  NaN  NaN  1.0 NaN"
      ]
     },
     "execution_count": 35,
     "metadata": {},
     "output_type": "execute_result"
    }
   ],
   "source": [
    "group_matrix_df.head()"
   ]
  },
  {
   "cell_type": "code",
   "execution_count": 10,
   "metadata": {},
   "outputs": [],
   "source": [
    "follower_id_list = np.array(group_matrix_df.index.tolist())\n",
    "group_id_list = np.array(group_matrix_df.columns.tolist())"
   ]
  },
  {
   "cell_type": "code",
   "execution_count": 11,
   "metadata": {},
   "outputs": [],
   "source": [
    "from scipy.sparse import coo_matrix\n",
    "from scipy.sparse.linalg import svds"
   ]
  },
  {
   "cell_type": "code",
   "execution_count": 12,
   "metadata": {},
   "outputs": [],
   "source": [
    "group_mtx = group_matrix_df.fillna(0).values.copy()\n",
    "group_sparse_mtx = coo_matrix(group_mtx)"
   ]
  },
  {
   "cell_type": "markdown",
   "metadata": {},
   "source": [
    "## SVD of matrix"
   ]
  },
  {
   "cell_type": "code",
   "execution_count": 14,
   "metadata": {},
   "outputs": [],
   "source": [
    "U, s, V = svds(group_sparse_mtx, k=1)"
   ]
  },
  {
   "cell_type": "markdown",
   "metadata": {},
   "source": [
    "## Multiply the decompostion back to get approx matrix"
   ]
  },
  {
   "cell_type": "code",
   "execution_count": 15,
   "metadata": {},
   "outputs": [],
   "source": [
    "s_diag = np.diag(s)"
   ]
  },
  {
   "cell_type": "code",
   "execution_count": 16,
   "metadata": {},
   "outputs": [],
   "source": [
    "group_svd = U @ s_diag @ V"
   ]
  },
  {
   "cell_type": "code",
   "execution_count": 18,
   "metadata": {},
   "outputs": [
    {
     "data": {
      "text/plain": [
       "array([[0.29102584, 0.297855  , 0.16059587, 0.12919113, 0.17990852,\n",
       "        0.538028  , 0.01708134],\n",
       "       [0.29102584, 0.297855  , 0.16059587, 0.12919113, 0.17990852,\n",
       "        0.538028  , 0.01708134],\n",
       "       [0.48572849, 0.4971265 , 0.26803802, 0.21562282, 0.30027126,\n",
       "        0.89798049, 0.02850913],\n",
       "       [0.29102584, 0.297855  , 0.16059587, 0.12919113, 0.17990852,\n",
       "        0.538028  , 0.01708134],\n",
       "       [0.29102584, 0.297855  , 0.16059587, 0.12919113, 0.17990852,\n",
       "        0.538028  , 0.01708134],\n",
       "       [0.31853276, 0.32600739, 0.17577492, 0.1414019 , 0.19691295,\n",
       "        0.58888084, 0.01869582],\n",
       "       [0.29102584, 0.297855  , 0.16059587, 0.12919113, 0.17990852,\n",
       "        0.538028  , 0.01708134],\n",
       "       [0.29102584, 0.297855  , 0.16059587, 0.12919113, 0.17990852,\n",
       "        0.538028  , 0.01708134],\n",
       "       [0.31853276, 0.32600739, 0.17577492, 0.1414019 , 0.19691295,\n",
       "        0.58888084, 0.01869582],\n",
       "       [0.08686825, 0.08890668, 0.04793623, 0.03856223, 0.05370086,\n",
       "        0.16059587, 0.00509861],\n",
       "       [0.29102584, 0.297855  , 0.16059587, 0.12919113, 0.17990852,\n",
       "        0.538028  , 0.01708134],\n",
       "       [0.29102584, 0.297855  , 0.16059587, 0.12919113, 0.17990852,\n",
       "        0.538028  , 0.01708134],\n",
       "       [0.29102584, 0.297855  , 0.16059587, 0.12919113, 0.17990852,\n",
       "        0.538028  , 0.01708134],\n",
       "       [0.31853276, 0.32600739, 0.17577492, 0.1414019 , 0.19691295,\n",
       "        0.58888084, 0.01869582],\n",
       "       [0.29102584, 0.297855  , 0.16059587, 0.12919113, 0.17990852,\n",
       "        0.538028  , 0.01708134],\n",
       "       [0.08686825, 0.08890668, 0.04793623, 0.03856223, 0.05370086,\n",
       "        0.16059587, 0.00509861],\n",
       "       [0.29102584, 0.297855  , 0.16059587, 0.12919113, 0.17990852,\n",
       "        0.538028  , 0.01708134],\n",
       "       [0.29102584, 0.297855  , 0.16059587, 0.12919113, 0.17990852,\n",
       "        0.538028  , 0.01708134],\n",
       "       [0.29102584, 0.297855  , 0.16059587, 0.12919113, 0.17990852,\n",
       "        0.538028  , 0.01708134],\n",
       "       [0.5027157 , 0.51451233, 0.27741201, 0.22316371, 0.31077254,\n",
       "        0.92938524, 0.02950617],\n",
       "       [0.29102584, 0.297855  , 0.16059587, 0.12919113, 0.17990852,\n",
       "        0.538028  , 0.01708134],\n",
       "       [0.29102584, 0.297855  , 0.16059587, 0.12919113, 0.17990852,\n",
       "        0.538028  , 0.01708134],\n",
       "       [0.31853276, 0.32600739, 0.17577492, 0.1414019 , 0.19691295,\n",
       "        0.58888084, 0.01869582],\n",
       "       [0.29102584, 0.297855  , 0.16059587, 0.12919113, 0.17990852,\n",
       "        0.538028  , 0.01708134],\n",
       "       [0.31853276, 0.32600739, 0.17577492, 0.1414019 , 0.19691295,\n",
       "        0.58888084, 0.01869582],\n",
       "       [0.31853276, 0.32600739, 0.17577492, 0.1414019 , 0.19691295,\n",
       "        0.58888084, 0.01869582],\n",
       "       [0.86362258, 0.88388818, 0.47657012, 0.38337618, 0.53388064,\n",
       "        1.59660436, 0.05068908],\n",
       "       [0.31853276, 0.32600739, 0.17577492, 0.1414019 , 0.19691295,\n",
       "        0.58888084, 0.01869582],\n",
       "       [0.29102584, 0.297855  , 0.16059587, 0.12919113, 0.17990852,\n",
       "        0.538028  , 0.01708134],\n",
       "       [0.29102584, 0.297855  , 0.16059587, 0.12919113, 0.17990852,\n",
       "        0.538028  , 0.01708134],\n",
       "       [0.31853276, 0.32600739, 0.17577492, 0.1414019 , 0.19691295,\n",
       "        0.58888084, 0.01869582],\n",
       "       [0.29102584, 0.297855  , 0.16059587, 0.12919113, 0.17990852,\n",
       "        0.538028  , 0.01708134],\n",
       "       [0.29102584, 0.297855  , 0.16059587, 0.12919113, 0.17990852,\n",
       "        0.538028  , 0.01708134],\n",
       "       [0.29102584, 0.297855  , 0.16059587, 0.12919113, 0.17990852,\n",
       "        0.538028  , 0.01708134],\n",
       "       [0.29102584, 0.297855  , 0.16059587, 0.12919113, 0.17990852,\n",
       "        0.538028  , 0.01708134],\n",
       "       [0.25473409, 0.26071163, 0.1405691 , 0.11308062, 0.15747342,\n",
       "        0.47093437, 0.01495125],\n",
       "       [0.29102584, 0.297855  , 0.16059587, 0.12919113, 0.17990852,\n",
       "        0.538028  , 0.01708134],\n",
       "       [0.29102584, 0.297855  , 0.16059587, 0.12919113, 0.17990852,\n",
       "        0.538028  , 0.01708134],\n",
       "       [0.29102584, 0.297855  , 0.16059587, 0.12919113, 0.17990852,\n",
       "        0.538028  , 0.01708134],\n",
       "       [0.31853276, 0.32600739, 0.17577492, 0.1414019 , 0.19691295,\n",
       "        0.58888084, 0.01869582],\n",
       "       [0.29102584, 0.297855  , 0.16059587, 0.12919113, 0.17990852,\n",
       "        0.538028  , 0.01708134],\n",
       "       [0.29102584, 0.297855  , 0.16059587, 0.12919113, 0.17990852,\n",
       "        0.538028  , 0.01708134],\n",
       "       [0.29102584, 0.297855  , 0.16059587, 0.12919113, 0.17990852,\n",
       "        0.538028  , 0.01708134],\n",
       "       [0.29102584, 0.297855  , 0.16059587, 0.12919113, 0.17990852,\n",
       "        0.538028  , 0.01708134],\n",
       "       [0.29102584, 0.297855  , 0.16059587, 0.12919113, 0.17990852,\n",
       "        0.538028  , 0.01708134],\n",
       "       [0.42441685, 0.43437613, 0.23420461, 0.18840558, 0.26236917,\n",
       "        0.78463186, 0.02491054],\n",
       "       [0.29102584, 0.297855  , 0.16059587, 0.12919113, 0.17990852,\n",
       "        0.538028  , 0.01708134],\n",
       "       [0.29102584, 0.297855  , 0.16059587, 0.12919113, 0.17990852,\n",
       "        0.538028  , 0.01708134],\n",
       "       [0.86362258, 0.88388818, 0.47657012, 0.38337618, 0.53388064,\n",
       "        1.59660436, 0.05068908],\n",
       "       [0.57259674, 0.58603318, 0.31597425, 0.25418505, 0.35397212,\n",
       "        1.05857636, 0.03360774],\n",
       "       [0.29102584, 0.297855  , 0.16059587, 0.12919113, 0.17990852,\n",
       "        0.538028  , 0.01708134],\n",
       "       [0.29102584, 0.297855  , 0.16059587, 0.12919113, 0.17990852,\n",
       "        0.538028  , 0.01708134],\n",
       "       [0.29102584, 0.297855  , 0.16059587, 0.12919113, 0.17990852,\n",
       "        0.538028  , 0.01708134],\n",
       "       [0.5027157 , 0.51451233, 0.27741201, 0.22316371, 0.31077254,\n",
       "        0.92938524, 0.02950617],\n",
       "       [0.08686825, 0.08890668, 0.04793623, 0.03856223, 0.05370086,\n",
       "        0.16059587, 0.00509861],\n",
       "       [0.29102584, 0.297855  , 0.16059587, 0.12919113, 0.17990852,\n",
       "        0.538028  , 0.01708134],\n",
       "       [0.31853276, 0.32600739, 0.17577492, 0.1414019 , 0.19691295,\n",
       "        0.58888084, 0.01869582],\n",
       "       [0.29102584, 0.297855  , 0.16059587, 0.12919113, 0.17990852,\n",
       "        0.538028  , 0.01708134],\n",
       "       [0.29102584, 0.297855  , 0.16059587, 0.12919113, 0.17990852,\n",
       "        0.538028  , 0.01708134],\n",
       "       [0.29102584, 0.297855  , 0.16059587, 0.12919113, 0.17990852,\n",
       "        0.538028  , 0.01708134],\n",
       "       [0.29102584, 0.297855  , 0.16059587, 0.12919113, 0.17990852,\n",
       "        0.538028  , 0.01708134]])"
      ]
     },
     "execution_count": 18,
     "metadata": {},
     "output_type": "execute_result"
    }
   ],
   "source": [
    "group_svd"
   ]
  },
  {
   "cell_type": "markdown",
   "metadata": {},
   "source": [
    "# Rec Function"
   ]
  },
  {
   "cell_type": "code",
   "execution_count": 25,
   "metadata": {},
   "outputs": [],
   "source": [
    "def recommend(follower_id, num_results=5):\n",
    "    follower_indx = np.where(follower_id_list == follower_id)[0][0]\n",
    "    indx_sort = group_svd[follower_indx, :].argsort()[::-1]\n",
    "    never_buy = group_mtx[follower_indx, :][indx_sort] == 0\n",
    "    rec_indx = indx_sort[never_buy]\n",
    "    rec_ids = group_id_list[rec_indx]\n",
    "    rec_name = [item_dict[x] for x in rec_ids]\n",
    "    return rec_ids[:num_results], rec_name[:num_results]"
   ]
  },
  {
   "cell_type": "code",
   "execution_count": 26,
   "metadata": {
    "scrolled": true
   },
   "outputs": [
    {
     "name": "stdout",
     "output_type": "stream",
     "text": [
      "[ 2  1 15 13 14]\n",
      "['BeitarFans', 'BeitarJerusalem', 'Israeli Singers', 'Emaze', 'Design and Marketing Team']\n"
     ]
    }
   ],
   "source": [
    "rec_ids, rec_name = recommend('09d32136-ed59-49fd-b553-5c1448aa92fd')\n",
    "print(rec_ids)\n",
    "print(rec_name)"
   ]
  }
 ],
 "metadata": {
  "kernelspec": {
   "display_name": "Python 3",
   "language": "python",
   "name": "python3"
  },
  "language_info": {
   "codemirror_mode": {
    "name": "ipython",
    "version": 3
   },
   "file_extension": ".py",
   "mimetype": "text/x-python",
   "name": "python",
   "nbconvert_exporter": "python",
   "pygments_lexer": "ipython3",
   "version": "3.7.4"
  }
 },
 "nbformat": 4,
 "nbformat_minor": 2
}
