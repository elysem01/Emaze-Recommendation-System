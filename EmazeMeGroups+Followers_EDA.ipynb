{
 "cells": [
  {
   "cell_type": "code",
   "execution_count": 1,
   "metadata": {},
   "outputs": [],
   "source": [
    "from IPython.display import Image\n",
    "import pandas as pd\n",
    "import numpy as np\n",
    "import seaborn as sns\n",
    "sns.set()\n",
    "\n",
    "import warnings\n",
    "warnings.simplefilter(\"ignore\")"
   ]
  },
  {
   "cell_type": "markdown",
   "metadata": {},
   "source": [
    "# EmazeMeGroups"
   ]
  },
  {
   "cell_type": "code",
   "execution_count": 2,
   "metadata": {},
   "outputs": [],
   "source": [
    "groups = pd.read_csv('data/EmazeMeGroups.csv')"
   ]
  },
  {
   "cell_type": "code",
   "execution_count": 3,
   "metadata": {
    "scrolled": false
   },
   "outputs": [
    {
     "data": {
      "text/html": [
       "<div>\n",
       "<style scoped>\n",
       "    .dataframe tbody tr th:only-of-type {\n",
       "        vertical-align: middle;\n",
       "    }\n",
       "\n",
       "    .dataframe tbody tr th {\n",
       "        vertical-align: top;\n",
       "    }\n",
       "\n",
       "    .dataframe thead th {\n",
       "        text-align: right;\n",
       "    }\n",
       "</style>\n",
       "<table border=\"1\" class=\"dataframe\">\n",
       "  <thead>\n",
       "    <tr style=\"text-align: right;\">\n",
       "      <th></th>\n",
       "      <th>GroupID</th>\n",
       "      <th>GroupName</th>\n",
       "      <th>Admin</th>\n",
       "      <th>Privecy</th>\n",
       "      <th>Visibility</th>\n",
       "      <th>priority</th>\n",
       "      <th>varified</th>\n",
       "      <th>AssociatedGroupsJson</th>\n",
       "      <th>ModeratorsJson</th>\n",
       "      <th>DateCreated</th>\n",
       "      <th>DateUpdated</th>\n",
       "      <th>AboutGroup</th>\n",
       "      <th>EmazeSite</th>\n",
       "      <th>GroupCoverUrl</th>\n",
       "      <th>GroupPhotoUrl</th>\n",
       "      <th>SiteThumnail</th>\n",
       "    </tr>\n",
       "  </thead>\n",
       "  <tbody>\n",
       "    <tr>\n",
       "      <td>0</td>\n",
       "      <td>1</td>\n",
       "      <td>BeitarJerusalem</td>\n",
       "      <td>d1f13501-60bf-4dd8-b6e8-c11d2f8eab8c</td>\n",
       "      <td>1</td>\n",
       "      <td>0</td>\n",
       "      <td>0</td>\n",
       "      <td>0</td>\n",
       "      <td>NaN</td>\n",
       "      <td>NaN</td>\n",
       "      <td>2020-04-05 10:27:38.0531290</td>\n",
       "      <td>2020-04-05 10:27:38.0531290</td>\n",
       "      <td>Group of Beitar players</td>\n",
       "      <td>https://emaze.me/diogoverdasca</td>\n",
       "      <td>//userscontent2.emaze.com/userinfo//cover/2dc9...</td>\n",
       "      <td>//userscontent2.emaze.com/userinfo//image/7c4d...</td>\n",
       "      <td>//storage.googleapis.com/userscontent2.emaze.c...</td>\n",
       "    </tr>\n",
       "    <tr>\n",
       "      <td>1</td>\n",
       "      <td>2</td>\n",
       "      <td>BeitarFans</td>\n",
       "      <td>d1f13501-60bf-4dd8-b6e8-c11d2f8eab8c</td>\n",
       "      <td>1</td>\n",
       "      <td>0</td>\n",
       "      <td>0</td>\n",
       "      <td>0</td>\n",
       "      <td>NaN</td>\n",
       "      <td>NaN</td>\n",
       "      <td>2020-04-05 10:27:38.0531290</td>\n",
       "      <td>2020-04-05 10:27:38.0531290</td>\n",
       "      <td>Group for fans of Beitar Jerusalem f.c.</td>\n",
       "      <td>NaN</td>\n",
       "      <td>//userscontent2.emaze.com/userinfo//cover/b397...</td>\n",
       "      <td>//userscontent2.emaze.com/userinfo//image/1e5a...</td>\n",
       "      <td>NaN</td>\n",
       "    </tr>\n",
       "    <tr>\n",
       "      <td>2</td>\n",
       "      <td>3</td>\n",
       "      <td>newgroupwithdate2</td>\n",
       "      <td>NaN</td>\n",
       "      <td>0</td>\n",
       "      <td>0</td>\n",
       "      <td>0</td>\n",
       "      <td>0</td>\n",
       "      <td>NaN</td>\n",
       "      <td>NaN</td>\n",
       "      <td>2020-04-05 12:00:36.2022096</td>\n",
       "      <td>2020-04-05 12:00:36.2022096</td>\n",
       "      <td>NaN</td>\n",
       "      <td>NaN</td>\n",
       "      <td>NaN</td>\n",
       "      <td>NaN</td>\n",
       "      <td>NaN</td>\n",
       "    </tr>\n",
       "    <tr>\n",
       "      <td>3</td>\n",
       "      <td>4</td>\n",
       "      <td>another-group</td>\n",
       "      <td>NaN</td>\n",
       "      <td>0</td>\n",
       "      <td>0</td>\n",
       "      <td>0</td>\n",
       "      <td>0</td>\n",
       "      <td>NaN</td>\n",
       "      <td>NaN</td>\n",
       "      <td>2020-04-20 08:57:01.8046276</td>\n",
       "      <td>2020-04-20 08:57:01.8046276</td>\n",
       "      <td>NaN</td>\n",
       "      <td>NaN</td>\n",
       "      <td>NaN</td>\n",
       "      <td>NaN</td>\n",
       "      <td>NaN</td>\n",
       "    </tr>\n",
       "    <tr>\n",
       "      <td>4</td>\n",
       "      <td>5</td>\n",
       "      <td>\"\"</td>\n",
       "      <td>NaN</td>\n",
       "      <td>0</td>\n",
       "      <td>0</td>\n",
       "      <td>0</td>\n",
       "      <td>0</td>\n",
       "      <td>NaN</td>\n",
       "      <td>NaN</td>\n",
       "      <td>2020-04-20 10:44:39.2241056</td>\n",
       "      <td>2020-04-20 10:44:39.2241056</td>\n",
       "      <td>NaN</td>\n",
       "      <td>NaN</td>\n",
       "      <td>NaN</td>\n",
       "      <td>NaN</td>\n",
       "      <td>NaN</td>\n",
       "    </tr>\n",
       "  </tbody>\n",
       "</table>\n",
       "</div>"
      ],
      "text/plain": [
       "   GroupID          GroupName                                 Admin  Privecy  \\\n",
       "0        1    BeitarJerusalem  d1f13501-60bf-4dd8-b6e8-c11d2f8eab8c        1   \n",
       "1        2         BeitarFans  d1f13501-60bf-4dd8-b6e8-c11d2f8eab8c        1   \n",
       "2        3  newgroupwithdate2                                   NaN        0   \n",
       "3        4      another-group                                   NaN        0   \n",
       "4        5                 \"\"                                   NaN        0   \n",
       "\n",
       "   Visibility  priority  varified  AssociatedGroupsJson  ModeratorsJson  \\\n",
       "0           0         0         0                   NaN             NaN   \n",
       "1           0         0         0                   NaN             NaN   \n",
       "2           0         0         0                   NaN             NaN   \n",
       "3           0         0         0                   NaN             NaN   \n",
       "4           0         0         0                   NaN             NaN   \n",
       "\n",
       "                   DateCreated                  DateUpdated  \\\n",
       "0  2020-04-05 10:27:38.0531290  2020-04-05 10:27:38.0531290   \n",
       "1  2020-04-05 10:27:38.0531290  2020-04-05 10:27:38.0531290   \n",
       "2  2020-04-05 12:00:36.2022096  2020-04-05 12:00:36.2022096   \n",
       "3  2020-04-20 08:57:01.8046276  2020-04-20 08:57:01.8046276   \n",
       "4  2020-04-20 10:44:39.2241056  2020-04-20 10:44:39.2241056   \n",
       "\n",
       "                                AboutGroup                       EmazeSite  \\\n",
       "0                  Group of Beitar players  https://emaze.me/diogoverdasca   \n",
       "1  Group for fans of Beitar Jerusalem f.c.                             NaN   \n",
       "2                                      NaN                             NaN   \n",
       "3                                      NaN                             NaN   \n",
       "4                                      NaN                             NaN   \n",
       "\n",
       "                                       GroupCoverUrl  \\\n",
       "0  //userscontent2.emaze.com/userinfo//cover/2dc9...   \n",
       "1  //userscontent2.emaze.com/userinfo//cover/b397...   \n",
       "2                                                NaN   \n",
       "3                                                NaN   \n",
       "4                                                NaN   \n",
       "\n",
       "                                       GroupPhotoUrl  \\\n",
       "0  //userscontent2.emaze.com/userinfo//image/7c4d...   \n",
       "1  //userscontent2.emaze.com/userinfo//image/1e5a...   \n",
       "2                                                NaN   \n",
       "3                                                NaN   \n",
       "4                                                NaN   \n",
       "\n",
       "                                        SiteThumnail  \n",
       "0  //storage.googleapis.com/userscontent2.emaze.c...  \n",
       "1                                                NaN  \n",
       "2                                                NaN  \n",
       "3                                                NaN  \n",
       "4                                                NaN  "
      ]
     },
     "execution_count": 3,
     "metadata": {},
     "output_type": "execute_result"
    }
   ],
   "source": [
    "groups.head()"
   ]
  },
  {
   "cell_type": "markdown",
   "metadata": {},
   "source": [
    "### Removing Unecessary Columns + Rename"
   ]
  },
  {
   "cell_type": "code",
   "execution_count": 4,
   "metadata": {
    "scrolled": true
   },
   "outputs": [
    {
     "data": {
      "text/html": [
       "<div>\n",
       "<style scoped>\n",
       "    .dataframe tbody tr th:only-of-type {\n",
       "        vertical-align: middle;\n",
       "    }\n",
       "\n",
       "    .dataframe tbody tr th {\n",
       "        vertical-align: top;\n",
       "    }\n",
       "\n",
       "    .dataframe thead th {\n",
       "        text-align: right;\n",
       "    }\n",
       "</style>\n",
       "<table border=\"1\" class=\"dataframe\">\n",
       "  <thead>\n",
       "    <tr style=\"text-align: right;\">\n",
       "      <th></th>\n",
       "      <th>GroupID</th>\n",
       "      <th>GroupName</th>\n",
       "      <th>Admin</th>\n",
       "      <th>Privecy</th>\n",
       "      <th>Visibility</th>\n",
       "      <th>DateCreated</th>\n",
       "      <th>DateUpdated</th>\n",
       "      <th>AboutGroup</th>\n",
       "      <th>EmazeSite</th>\n",
       "    </tr>\n",
       "  </thead>\n",
       "  <tbody>\n",
       "    <tr>\n",
       "      <td>0</td>\n",
       "      <td>1</td>\n",
       "      <td>BeitarJerusalem</td>\n",
       "      <td>d1f13501-60bf-4dd8-b6e8-c11d2f8eab8c</td>\n",
       "      <td>1</td>\n",
       "      <td>0</td>\n",
       "      <td>2020-04-05 10:27:38.0531290</td>\n",
       "      <td>2020-04-05 10:27:38.0531290</td>\n",
       "      <td>Group of Beitar players</td>\n",
       "      <td>https://emaze.me/diogoverdasca</td>\n",
       "    </tr>\n",
       "    <tr>\n",
       "      <td>1</td>\n",
       "      <td>2</td>\n",
       "      <td>BeitarFans</td>\n",
       "      <td>d1f13501-60bf-4dd8-b6e8-c11d2f8eab8c</td>\n",
       "      <td>1</td>\n",
       "      <td>0</td>\n",
       "      <td>2020-04-05 10:27:38.0531290</td>\n",
       "      <td>2020-04-05 10:27:38.0531290</td>\n",
       "      <td>Group for fans of Beitar Jerusalem f.c.</td>\n",
       "      <td>NaN</td>\n",
       "    </tr>\n",
       "    <tr>\n",
       "      <td>2</td>\n",
       "      <td>3</td>\n",
       "      <td>newgroupwithdate2</td>\n",
       "      <td>NaN</td>\n",
       "      <td>0</td>\n",
       "      <td>0</td>\n",
       "      <td>2020-04-05 12:00:36.2022096</td>\n",
       "      <td>2020-04-05 12:00:36.2022096</td>\n",
       "      <td>NaN</td>\n",
       "      <td>NaN</td>\n",
       "    </tr>\n",
       "    <tr>\n",
       "      <td>3</td>\n",
       "      <td>4</td>\n",
       "      <td>another-group</td>\n",
       "      <td>NaN</td>\n",
       "      <td>0</td>\n",
       "      <td>0</td>\n",
       "      <td>2020-04-20 08:57:01.8046276</td>\n",
       "      <td>2020-04-20 08:57:01.8046276</td>\n",
       "      <td>NaN</td>\n",
       "      <td>NaN</td>\n",
       "    </tr>\n",
       "    <tr>\n",
       "      <td>4</td>\n",
       "      <td>5</td>\n",
       "      <td>\"\"</td>\n",
       "      <td>NaN</td>\n",
       "      <td>0</td>\n",
       "      <td>0</td>\n",
       "      <td>2020-04-20 10:44:39.2241056</td>\n",
       "      <td>2020-04-20 10:44:39.2241056</td>\n",
       "      <td>NaN</td>\n",
       "      <td>NaN</td>\n",
       "    </tr>\n",
       "  </tbody>\n",
       "</table>\n",
       "</div>"
      ],
      "text/plain": [
       "   GroupID          GroupName                                 Admin  Privecy  \\\n",
       "0        1    BeitarJerusalem  d1f13501-60bf-4dd8-b6e8-c11d2f8eab8c        1   \n",
       "1        2         BeitarFans  d1f13501-60bf-4dd8-b6e8-c11d2f8eab8c        1   \n",
       "2        3  newgroupwithdate2                                   NaN        0   \n",
       "3        4      another-group                                   NaN        0   \n",
       "4        5                 \"\"                                   NaN        0   \n",
       "\n",
       "   Visibility                  DateCreated                  DateUpdated  \\\n",
       "0           0  2020-04-05 10:27:38.0531290  2020-04-05 10:27:38.0531290   \n",
       "1           0  2020-04-05 10:27:38.0531290  2020-04-05 10:27:38.0531290   \n",
       "2           0  2020-04-05 12:00:36.2022096  2020-04-05 12:00:36.2022096   \n",
       "3           0  2020-04-20 08:57:01.8046276  2020-04-20 08:57:01.8046276   \n",
       "4           0  2020-04-20 10:44:39.2241056  2020-04-20 10:44:39.2241056   \n",
       "\n",
       "                                AboutGroup                       EmazeSite  \n",
       "0                  Group of Beitar players  https://emaze.me/diogoverdasca  \n",
       "1  Group for fans of Beitar Jerusalem f.c.                             NaN  \n",
       "2                                      NaN                             NaN  \n",
       "3                                      NaN                             NaN  \n",
       "4                                      NaN                             NaN  "
      ]
     },
     "execution_count": 4,
     "metadata": {},
     "output_type": "execute_result"
    }
   ],
   "source": [
    "columns_to_drop = ['GroupCoverUrl','GroupPhotoUrl','SiteThumnail','AssociatedGroupsJson','ModeratorsJson','priority','varified']\n",
    "groups = groups.drop(columns_to_drop, axis=1)\n",
    "groups.head()"
   ]
  },
  {
   "cell_type": "code",
   "execution_count": 5,
   "metadata": {},
   "outputs": [],
   "source": [
    "groups.rename(columns={'Privecy': 'Privacy'}, inplace=True)"
   ]
  },
  {
   "cell_type": "markdown",
   "metadata": {},
   "source": [
    "### DataTypes"
   ]
  },
  {
   "cell_type": "code",
   "execution_count": 6,
   "metadata": {},
   "outputs": [
    {
     "data": {
      "text/plain": [
       "GroupID         int64\n",
       "GroupName      object\n",
       "Admin          object\n",
       "Privacy         int64\n",
       "Visibility      int64\n",
       "DateCreated    object\n",
       "DateUpdated    object\n",
       "AboutGroup     object\n",
       "EmazeSite      object\n",
       "dtype: object"
      ]
     },
     "execution_count": 6,
     "metadata": {},
     "output_type": "execute_result"
    }
   ],
   "source": [
    "groups.dtypes"
   ]
  },
  {
   "cell_type": "code",
   "execution_count": 7,
   "metadata": {},
   "outputs": [],
   "source": [
    "#changed date types to datatime\n",
    "groups.DateCreated = pd.to_datetime(groups['DateCreated'])\n",
    "groups.DateUpdated = pd.to_datetime(groups['DateUpdated'])"
   ]
  },
  {
   "cell_type": "markdown",
   "metadata": {},
   "source": [
    "### Privacy"
   ]
  },
  {
   "cell_type": "code",
   "execution_count": 8,
   "metadata": {},
   "outputs": [
    {
     "data": {
      "text/plain": [
       "0    34\n",
       "1     3\n",
       "2     1\n",
       "Name: Privacy, dtype: int64"
      ]
     },
     "execution_count": 8,
     "metadata": {},
     "output_type": "execute_result"
    }
   ],
   "source": [
    "#most groups have: anyone can join without asking permission\n",
    "groups['Privacy'].value_counts()"
   ]
  },
  {
   "cell_type": "code",
   "execution_count": 9,
   "metadata": {
    "scrolled": true
   },
   "outputs": [
    {
     "data": {
      "text/plain": [
       "<matplotlib.axes._subplots.AxesSubplot at 0x2116735db88>"
      ]
     },
     "execution_count": 9,
     "metadata": {},
     "output_type": "execute_result"
    },
    {
     "data": {
      "image/png": "[encoded data removed]",
      "text/plain": [
       "<Figure size 432x288 with 1 Axes>"
      ]
     },
     "metadata": {
      "needs_background": "light"
     },
     "output_type": "display_data"
    }
   ],
   "source": [
    "#most groups are public: anyone can join without asking permission\n",
    "ax = sns.countplot(x='Privacy', data=groups)\n",
    "ax"
   ]
  },
  {
   "cell_type": "markdown",
   "metadata": {},
   "source": [
    "### Distribution of Visibilities"
   ]
  },
  {
   "cell_type": "code",
   "execution_count": 10,
   "metadata": {
    "scrolled": true
   },
   "outputs": [
    {
     "data": {
      "text/plain": [
       "0    38\n",
       "Name: Visibility, dtype: int64"
      ]
     },
     "execution_count": 10,
     "metadata": {},
     "output_type": "execute_result"
    }
   ],
   "source": [
    "#all groups are visible: everyone can see the group and follow it\n",
    "groups['Visibility'].value_counts()"
   ]
  },
  {
   "cell_type": "markdown",
   "metadata": {},
   "source": [
    "### Number of Groups"
   ]
  },
  {
   "cell_type": "code",
   "execution_count": 11,
   "metadata": {},
   "outputs": [
    {
     "data": {
      "text/plain": [
       "38"
      ]
     },
     "execution_count": 11,
     "metadata": {},
     "output_type": "execute_result"
    }
   ],
   "source": [
    "#there are currently 38 groups\n",
    "len(groups['GroupName'].unique())"
   ]
  },
  {
   "cell_type": "markdown",
   "metadata": {},
   "source": [
    "### Which Groups Have Admins"
   ]
  },
  {
   "cell_type": "code",
   "execution_count": 12,
   "metadata": {
    "scrolled": true
   },
   "outputs": [
    {
     "data": {
      "text/html": [
       "<div>\n",
       "<style scoped>\n",
       "    .dataframe tbody tr th:only-of-type {\n",
       "        vertical-align: middle;\n",
       "    }\n",
       "\n",
       "    .dataframe tbody tr th {\n",
       "        vertical-align: top;\n",
       "    }\n",
       "\n",
       "    .dataframe thead th {\n",
       "        text-align: right;\n",
       "    }\n",
       "</style>\n",
       "<table border=\"1\" class=\"dataframe\">\n",
       "  <thead>\n",
       "    <tr style=\"text-align: right;\">\n",
       "      <th></th>\n",
       "      <th>GroupID</th>\n",
       "      <th>GroupName</th>\n",
       "      <th>Admin</th>\n",
       "      <th>Privacy</th>\n",
       "      <th>Visibility</th>\n",
       "      <th>DateCreated</th>\n",
       "      <th>DateUpdated</th>\n",
       "      <th>AboutGroup</th>\n",
       "      <th>EmazeSite</th>\n",
       "    </tr>\n",
       "  </thead>\n",
       "  <tbody>\n",
       "    <tr>\n",
       "      <td>0</td>\n",
       "      <td>1</td>\n",
       "      <td>BeitarJerusalem</td>\n",
       "      <td>d1f13501-60bf-4dd8-b6e8-c11d2f8eab8c</td>\n",
       "      <td>1</td>\n",
       "      <td>0</td>\n",
       "      <td>2020-04-05 10:27:38.053129000</td>\n",
       "      <td>2020-04-05 10:27:38.053129000</td>\n",
       "      <td>Group of Beitar players</td>\n",
       "      <td>https://emaze.me/diogoverdasca</td>\n",
       "    </tr>\n",
       "    <tr>\n",
       "      <td>1</td>\n",
       "      <td>2</td>\n",
       "      <td>BeitarFans</td>\n",
       "      <td>d1f13501-60bf-4dd8-b6e8-c11d2f8eab8c</td>\n",
       "      <td>1</td>\n",
       "      <td>0</td>\n",
       "      <td>2020-04-05 10:27:38.053129000</td>\n",
       "      <td>2020-04-05 10:27:38.053129000</td>\n",
       "      <td>Group for fans of Beitar Jerusalem f.c.</td>\n",
       "      <td>NaN</td>\n",
       "    </tr>\n",
       "    <tr>\n",
       "      <td>6</td>\n",
       "      <td>7</td>\n",
       "      <td>test111</td>\n",
       "      <td>db2995b1-3963-4631-b702-65d02fca3b81</td>\n",
       "      <td>0</td>\n",
       "      <td>0</td>\n",
       "      <td>2020-04-20 11:46:05.091843400</td>\n",
       "      <td>2020-04-20 11:46:05.091843400</td>\n",
       "      <td>NaN</td>\n",
       "      <td>NaN</td>\n",
       "    </tr>\n",
       "    <tr>\n",
       "      <td>8</td>\n",
       "      <td>9</td>\n",
       "      <td>asdasd</td>\n",
       "      <td>db2995b1-3963-4631-b702-65d02fca3b81</td>\n",
       "      <td>0</td>\n",
       "      <td>0</td>\n",
       "      <td>2020-04-20 13:21:25.927537000</td>\n",
       "      <td>2020-04-20 13:21:25.927537000</td>\n",
       "      <td>NaN</td>\n",
       "      <td>NaN</td>\n",
       "    </tr>\n",
       "    <tr>\n",
       "      <td>9</td>\n",
       "      <td>10</td>\n",
       "      <td>asdasda</td>\n",
       "      <td>db2995b1-3963-4631-b702-65d02fca3b81</td>\n",
       "      <td>0</td>\n",
       "      <td>0</td>\n",
       "      <td>2020-04-20 13:31:33.022503600</td>\n",
       "      <td>2020-04-20 13:31:33.022503600</td>\n",
       "      <td>NaN</td>\n",
       "      <td>NaN</td>\n",
       "    </tr>\n",
       "  </tbody>\n",
       "</table>\n",
       "</div>"
      ],
      "text/plain": [
       "   GroupID        GroupName                                 Admin  Privacy  \\\n",
       "0        1  BeitarJerusalem  d1f13501-60bf-4dd8-b6e8-c11d2f8eab8c        1   \n",
       "1        2       BeitarFans  d1f13501-60bf-4dd8-b6e8-c11d2f8eab8c        1   \n",
       "6        7          test111  db2995b1-3963-4631-b702-65d02fca3b81        0   \n",
       "8        9           asdasd  db2995b1-3963-4631-b702-65d02fca3b81        0   \n",
       "9       10          asdasda  db2995b1-3963-4631-b702-65d02fca3b81        0   \n",
       "\n",
       "   Visibility                   DateCreated                   DateUpdated  \\\n",
       "0           0 2020-04-05 10:27:38.053129000 2020-04-05 10:27:38.053129000   \n",
       "1           0 2020-04-05 10:27:38.053129000 2020-04-05 10:27:38.053129000   \n",
       "6           0 2020-04-20 11:46:05.091843400 2020-04-20 11:46:05.091843400   \n",
       "8           0 2020-04-20 13:21:25.927537000 2020-04-20 13:21:25.927537000   \n",
       "9           0 2020-04-20 13:31:33.022503600 2020-04-20 13:31:33.022503600   \n",
       "\n",
       "                                AboutGroup                       EmazeSite  \n",
       "0                  Group of Beitar players  https://emaze.me/diogoverdasca  \n",
       "1  Group for fans of Beitar Jerusalem f.c.                             NaN  \n",
       "6                                      NaN                             NaN  \n",
       "8                                      NaN                             NaN  \n",
       "9                                      NaN                             NaN  "
      ]
     },
     "execution_count": 12,
     "metadata": {},
     "output_type": "execute_result"
    }
   ],
   "source": [
    "#filter out rows with nan as admin\n",
    "admin_groups = groups.dropna(subset=['Admin'])\n",
    "admin_groups.head()"
   ]
  },
  {
   "cell_type": "code",
   "execution_count": 13,
   "metadata": {},
   "outputs": [
    {
     "data": {
      "text/plain": [
       "33"
      ]
     },
     "execution_count": 13,
     "metadata": {},
     "output_type": "execute_result"
    }
   ],
   "source": [
    "#most groups have an admin\n",
    "admin_groups['Admin'].count()"
   ]
  },
  {
   "cell_type": "markdown",
   "metadata": {},
   "source": [
    "### Which Groups have an About"
   ]
  },
  {
   "cell_type": "code",
   "execution_count": 14,
   "metadata": {
    "scrolled": true
   },
   "outputs": [
    {
     "data": {
      "text/html": [
       "<div>\n",
       "<style scoped>\n",
       "    .dataframe tbody tr th:only-of-type {\n",
       "        vertical-align: middle;\n",
       "    }\n",
       "\n",
       "    .dataframe tbody tr th {\n",
       "        vertical-align: top;\n",
       "    }\n",
       "\n",
       "    .dataframe thead th {\n",
       "        text-align: right;\n",
       "    }\n",
       "</style>\n",
       "<table border=\"1\" class=\"dataframe\">\n",
       "  <thead>\n",
       "    <tr style=\"text-align: right;\">\n",
       "      <th></th>\n",
       "      <th>GroupID</th>\n",
       "      <th>GroupName</th>\n",
       "      <th>Admin</th>\n",
       "      <th>Privacy</th>\n",
       "      <th>Visibility</th>\n",
       "      <th>DateCreated</th>\n",
       "      <th>DateUpdated</th>\n",
       "      <th>AboutGroup</th>\n",
       "      <th>EmazeSite</th>\n",
       "    </tr>\n",
       "  </thead>\n",
       "  <tbody>\n",
       "    <tr>\n",
       "      <td>0</td>\n",
       "      <td>1</td>\n",
       "      <td>BeitarJerusalem</td>\n",
       "      <td>d1f13501-60bf-4dd8-b6e8-c11d2f8eab8c</td>\n",
       "      <td>1</td>\n",
       "      <td>0</td>\n",
       "      <td>2020-04-05 10:27:38.053129000</td>\n",
       "      <td>2020-04-05 10:27:38.053129000</td>\n",
       "      <td>Group of Beitar players</td>\n",
       "      <td>https://emaze.me/diogoverdasca</td>\n",
       "    </tr>\n",
       "    <tr>\n",
       "      <td>1</td>\n",
       "      <td>2</td>\n",
       "      <td>BeitarFans</td>\n",
       "      <td>d1f13501-60bf-4dd8-b6e8-c11d2f8eab8c</td>\n",
       "      <td>1</td>\n",
       "      <td>0</td>\n",
       "      <td>2020-04-05 10:27:38.053129000</td>\n",
       "      <td>2020-04-05 10:27:38.053129000</td>\n",
       "      <td>Group for fans of Beitar Jerusalem f.c.</td>\n",
       "      <td>NaN</td>\n",
       "    </tr>\n",
       "    <tr>\n",
       "      <td>14</td>\n",
       "      <td>15</td>\n",
       "      <td>Israeli Singers</td>\n",
       "      <td>886b35c1-7e9d-46da-b9ff-d4099d142194</td>\n",
       "      <td>0</td>\n",
       "      <td>0</td>\n",
       "      <td>2020-05-31 08:23:51.706593500</td>\n",
       "      <td>2020-05-31 08:23:51.706593500</td>\n",
       "      <td>This is a unique group of Israeli singers. Isr...</td>\n",
       "      <td>NaN</td>\n",
       "    </tr>\n",
       "    <tr>\n",
       "      <td>15</td>\n",
       "      <td>16</td>\n",
       "      <td>Israeli Actors &amp; Actresses</td>\n",
       "      <td>886b35c1-7e9d-46da-b9ff-d4099d142194</td>\n",
       "      <td>0</td>\n",
       "      <td>0</td>\n",
       "      <td>2020-05-31 09:08:05.030662800</td>\n",
       "      <td>2020-05-31 09:08:05.030662800</td>\n",
       "      <td>Welcome to Israeli Actors &amp; Actresses Group! H...</td>\n",
       "      <td>NaN</td>\n",
       "    </tr>\n",
       "    <tr>\n",
       "      <td>16</td>\n",
       "      <td>17</td>\n",
       "      <td>Israeli Models</td>\n",
       "      <td>886b35c1-7e9d-46da-b9ff-d4099d142194</td>\n",
       "      <td>0</td>\n",
       "      <td>0</td>\n",
       "      <td>2020-05-31 09:13:44.671635700</td>\n",
       "      <td>2020-05-31 09:13:44.671635700</td>\n",
       "      <td>Whatever the reason, Israel is producing hot n...</td>\n",
       "      <td>NaN</td>\n",
       "    </tr>\n",
       "  </tbody>\n",
       "</table>\n",
       "</div>"
      ],
      "text/plain": [
       "    GroupID                   GroupName                                 Admin  \\\n",
       "0         1             BeitarJerusalem  d1f13501-60bf-4dd8-b6e8-c11d2f8eab8c   \n",
       "1         2                  BeitarFans  d1f13501-60bf-4dd8-b6e8-c11d2f8eab8c   \n",
       "14       15             Israeli Singers  886b35c1-7e9d-46da-b9ff-d4099d142194   \n",
       "15       16  Israeli Actors & Actresses  886b35c1-7e9d-46da-b9ff-d4099d142194   \n",
       "16       17              Israeli Models  886b35c1-7e9d-46da-b9ff-d4099d142194   \n",
       "\n",
       "    Privacy  Visibility                   DateCreated  \\\n",
       "0         1           0 2020-04-05 10:27:38.053129000   \n",
       "1         1           0 2020-04-05 10:27:38.053129000   \n",
       "14        0           0 2020-05-31 08:23:51.706593500   \n",
       "15        0           0 2020-05-31 09:08:05.030662800   \n",
       "16        0           0 2020-05-31 09:13:44.671635700   \n",
       "\n",
       "                     DateUpdated  \\\n",
       "0  2020-04-05 10:27:38.053129000   \n",
       "1  2020-04-05 10:27:38.053129000   \n",
       "14 2020-05-31 08:23:51.706593500   \n",
       "15 2020-05-31 09:08:05.030662800   \n",
       "16 2020-05-31 09:13:44.671635700   \n",
       "\n",
       "                                           AboutGroup  \\\n",
       "0                             Group of Beitar players   \n",
       "1             Group for fans of Beitar Jerusalem f.c.   \n",
       "14  This is a unique group of Israeli singers. Isr...   \n",
       "15  Welcome to Israeli Actors & Actresses Group! H...   \n",
       "16  Whatever the reason, Israel is producing hot n...   \n",
       "\n",
       "                         EmazeSite  \n",
       "0   https://emaze.me/diogoverdasca  \n",
       "1                              NaN  \n",
       "14                             NaN  \n",
       "15                             NaN  \n",
       "16                             NaN  "
      ]
     },
     "execution_count": 14,
     "metadata": {},
     "output_type": "execute_result"
    }
   ],
   "source": [
    "#filter out groups with nan as AboutGroup\n",
    "about_groups = groups.dropna(subset=['AboutGroup'])\n",
    "about_groups.head()"
   ]
  },
  {
   "cell_type": "code",
   "execution_count": 15,
   "metadata": {},
   "outputs": [
    {
     "data": {
      "text/plain": [
       "14"
      ]
     },
     "execution_count": 15,
     "metadata": {},
     "output_type": "execute_result"
    }
   ],
   "source": [
    "#14 groups have an 'about'\n",
    "about_groups['AboutGroup'].count()"
   ]
  },
  {
   "cell_type": "code",
   "execution_count": null,
   "metadata": {},
   "outputs": [],
   "source": []
  },
  {
   "cell_type": "code",
   "execution_count": null,
   "metadata": {},
   "outputs": [],
   "source": []
  },
  {
   "cell_type": "code",
   "execution_count": null,
   "metadata": {},
   "outputs": [],
   "source": []
  },
  {
   "cell_type": "markdown",
   "metadata": {},
   "source": [
    "# EmazeMeGroupFollowers"
   ]
  },
  {
   "cell_type": "code",
   "execution_count": 16,
   "metadata": {
    "scrolled": true
   },
   "outputs": [
    {
     "data": {
      "text/html": [
       "<div>\n",
       "<style scoped>\n",
       "    .dataframe tbody tr th:only-of-type {\n",
       "        vertical-align: middle;\n",
       "    }\n",
       "\n",
       "    .dataframe tbody tr th {\n",
       "        vertical-align: top;\n",
       "    }\n",
       "\n",
       "    .dataframe thead th {\n",
       "        text-align: right;\n",
       "    }\n",
       "</style>\n",
       "<table border=\"1\" class=\"dataframe\">\n",
       "  <thead>\n",
       "    <tr style=\"text-align: right;\">\n",
       "      <th></th>\n",
       "      <th>FollowId</th>\n",
       "      <th>FollowerId</th>\n",
       "      <th>EmazeMeGroupId</th>\n",
       "      <th>FollowingSince</th>\n",
       "    </tr>\n",
       "  </thead>\n",
       "  <tbody>\n",
       "    <tr>\n",
       "      <td>0</td>\n",
       "      <td>3</td>\n",
       "      <td>240238a0-ce99-4ea7-ac77-eff09fb5eff2</td>\n",
       "      <td>1</td>\n",
       "      <td>0001-01-03 00:00:00.000</td>\n",
       "    </tr>\n",
       "    <tr>\n",
       "      <td>1</td>\n",
       "      <td>4</td>\n",
       "      <td>240238a0-ce99-4ea7-ac77-eff09fb5eff2</td>\n",
       "      <td>2</td>\n",
       "      <td>0001-01-03 00:00:00.000</td>\n",
       "    </tr>\n",
       "    <tr>\n",
       "      <td>2</td>\n",
       "      <td>5</td>\n",
       "      <td>e9477dec-c960-4f11-a563-9781cf8b1c15</td>\n",
       "      <td>1</td>\n",
       "      <td>0001-01-03 00:00:00.000</td>\n",
       "    </tr>\n",
       "    <tr>\n",
       "      <td>3</td>\n",
       "      <td>6</td>\n",
       "      <td>e9477dec-c960-4f11-a563-9781cf8b1c15</td>\n",
       "      <td>2</td>\n",
       "      <td>0001-01-03 00:00:00.000</td>\n",
       "    </tr>\n",
       "    <tr>\n",
       "      <td>4</td>\n",
       "      <td>7</td>\n",
       "      <td>93aff917-ec28-4201-b1d2-788e275671b2</td>\n",
       "      <td>1</td>\n",
       "      <td>0001-01-03 00:00:00.000</td>\n",
       "    </tr>\n",
       "  </tbody>\n",
       "</table>\n",
       "</div>"
      ],
      "text/plain": [
       "   FollowId                            FollowerId  EmazeMeGroupId  \\\n",
       "0         3  240238a0-ce99-4ea7-ac77-eff09fb5eff2               1   \n",
       "1         4  240238a0-ce99-4ea7-ac77-eff09fb5eff2               2   \n",
       "2         5  e9477dec-c960-4f11-a563-9781cf8b1c15               1   \n",
       "3         6  e9477dec-c960-4f11-a563-9781cf8b1c15               2   \n",
       "4         7  93aff917-ec28-4201-b1d2-788e275671b2               1   \n",
       "\n",
       "            FollowingSince  \n",
       "0  0001-01-03 00:00:00.000  \n",
       "1  0001-01-03 00:00:00.000  \n",
       "2  0001-01-03 00:00:00.000  \n",
       "3  0001-01-03 00:00:00.000  \n",
       "4  0001-01-03 00:00:00.000  "
      ]
     },
     "execution_count": 16,
     "metadata": {},
     "output_type": "execute_result"
    }
   ],
   "source": [
    "followers = pd.read_csv('data/EmazeMeGroupFollowers.csv')\n",
    "followers.head()"
   ]
  },
  {
   "cell_type": "markdown",
   "metadata": {},
   "source": [
    "### How Many Followers are there in Total?"
   ]
  },
  {
   "cell_type": "code",
   "execution_count": 17,
   "metadata": {},
   "outputs": [
    {
     "data": {
      "text/plain": [
       "62"
      ]
     },
     "execution_count": 17,
     "metadata": {},
     "output_type": "execute_result"
    }
   ],
   "source": [
    "#61 followers\n",
    "len(followers['FollowerId'].unique())"
   ]
  },
  {
   "cell_type": "markdown",
   "metadata": {},
   "source": [
    "### Groups with Followers"
   ]
  },
  {
   "cell_type": "code",
   "execution_count": 18,
   "metadata": {
    "scrolled": false
   },
   "outputs": [
    {
     "data": {
      "text/plain": [
       "26    43\n",
       "2     18\n",
       "1     17\n",
       "13    10\n",
       "15     8\n",
       "14     5\n",
       "38     1\n",
       "37     1\n",
       "32     1\n",
       "31     1\n",
       "30     1\n",
       "Name: EmazeMeGroupId, dtype: int64"
      ]
     },
     "execution_count": 18,
     "metadata": {},
     "output_type": "execute_result"
    }
   ],
   "source": [
    "#GroupID 26 has most follows\n",
    "followers['EmazeMeGroupId'].value_counts()"
   ]
  },
  {
   "cell_type": "code",
   "execution_count": 19,
   "metadata": {
    "scrolled": false
   },
   "outputs": [
    {
     "data": {
      "text/plain": [
       "<matplotlib.axes._subplots.AxesSubplot at 0x2116767ce08>"
      ]
     },
     "execution_count": 19,
     "metadata": {},
     "output_type": "execute_result"
    },
    {
     "data": {
      "image/png": "[encoded data removed]",
      "text/plain": [
       "<Figure size 432x288 with 1 Axes>"
      ]
     },
     "metadata": {
      "needs_background": "light"
     },
     "output_type": "display_data"
    }
   ],
   "source": [
    "ax1 = sns.countplot(x='EmazeMeGroupId', data=followers)\n",
    "ax1"
   ]
  },
  {
   "cell_type": "code",
   "execution_count": 20,
   "metadata": {
    "scrolled": false
   },
   "outputs": [
    {
     "data": {
      "text/plain": [
       "25    Soccer Players\n",
       "Name: GroupName, dtype: object"
      ]
     },
     "execution_count": 20,
     "metadata": {},
     "output_type": "execute_result"
    }
   ],
   "source": [
    "#Group with most amount of followers is: Soccer Players(25 is just the index)\n",
    "groups[groups.GroupID == 26]['GroupName']"
   ]
  }
 ],
 "metadata": {
  "kernelspec": {
   "display_name": "Python 3",
   "language": "python",
   "name": "python3"
  },
  "language_info": {
   "codemirror_mode": {
    "name": "ipython",
    "version": 3
   },
   "file_extension": ".py",
   "mimetype": "text/x-python",
   "name": "python",
   "nbconvert_exporter": "python",
   "pygments_lexer": "ipython3",
   "version": "3.7.6"
  }
 },
 "nbformat": 4,
 "nbformat_minor": 2
}
