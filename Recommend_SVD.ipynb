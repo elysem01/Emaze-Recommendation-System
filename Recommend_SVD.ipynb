{
 "cells": [
  {
   "cell_type": "code",
   "execution_count": 32,
   "metadata": {
    "scrolled": false
   },
   "outputs": [],
   "source": [
    "from IPython.display import Image\n",
    "import pandas as pd\n",
    "import numpy as np\n",
    "import seaborn as sns\n",
    "sns.set()\n",
    "\n",
    "import warnings\n",
    "warnings.simplefilter(\"ignore\")"
   ]
  },
  {
   "cell_type": "markdown",
   "metadata": {},
   "source": [
    "## EmazeMeGroups"
   ]
  },
  {
   "cell_type": "code",
   "execution_count": 33,
   "metadata": {
    "scrolled": false
   },
   "outputs": [],
   "source": [
    "groups = pd.read_csv('data/EmazeMeGroups.csv')"
   ]
  },
  {
   "cell_type": "code",
   "execution_count": 34,
   "metadata": {
    "scrolled": false
   },
   "outputs": [
    {
     "data": {
      "text/html": [
       "<div>\n",
       "<style scoped>\n",
       "    .dataframe tbody tr th:only-of-type {\n",
       "        vertical-align: middle;\n",
       "    }\n",
       "\n",
       "    .dataframe tbody tr th {\n",
       "        vertical-align: top;\n",
       "    }\n",
       "\n",
       "    .dataframe thead th {\n",
       "        text-align: right;\n",
       "    }\n",
       "</style>\n",
       "<table border=\"1\" class=\"dataframe\">\n",
       "  <thead>\n",
       "    <tr style=\"text-align: right;\">\n",
       "      <th></th>\n",
       "      <th>GroupID</th>\n",
       "      <th>GroupName</th>\n",
       "      <th>Admin</th>\n",
       "      <th>Privecy</th>\n",
       "      <th>Visibility</th>\n",
       "      <th>priority</th>\n",
       "      <th>varified</th>\n",
       "      <th>AssociatedGroupsJson</th>\n",
       "      <th>ModeratorsJson</th>\n",
       "      <th>DateCreated</th>\n",
       "      <th>DateUpdated</th>\n",
       "      <th>AboutGroup</th>\n",
       "      <th>EmazeSite</th>\n",
       "      <th>GroupCoverUrl</th>\n",
       "      <th>GroupPhotoUrl</th>\n",
       "      <th>SiteThumnail</th>\n",
       "    </tr>\n",
       "  </thead>\n",
       "  <tbody>\n",
       "    <tr>\n",
       "      <td>0</td>\n",
       "      <td>1</td>\n",
       "      <td>BeitarJerusalem</td>\n",
       "      <td>d1f13501-60bf-4dd8-b6e8-c11d2f8eab8c</td>\n",
       "      <td>1</td>\n",
       "      <td>0</td>\n",
       "      <td>0</td>\n",
       "      <td>0</td>\n",
       "      <td>NaN</td>\n",
       "      <td>NaN</td>\n",
       "      <td>2020-04-05 10:27:38.0531290</td>\n",
       "      <td>2020-04-05 10:27:38.0531290</td>\n",
       "      <td>Group of Beitar players</td>\n",
       "      <td>https://emaze.me/diogoverdasca</td>\n",
       "      <td>//userscontent2.emaze.com/userinfo//cover/2dc9...</td>\n",
       "      <td>//userscontent2.emaze.com/userinfo//image/7c4d...</td>\n",
       "      <td>//storage.googleapis.com/userscontent2.emaze.c...</td>\n",
       "    </tr>\n",
       "    <tr>\n",
       "      <td>1</td>\n",
       "      <td>2</td>\n",
       "      <td>BeitarFans</td>\n",
       "      <td>d1f13501-60bf-4dd8-b6e8-c11d2f8eab8c</td>\n",
       "      <td>1</td>\n",
       "      <td>0</td>\n",
       "      <td>0</td>\n",
       "      <td>0</td>\n",
       "      <td>NaN</td>\n",
       "      <td>NaN</td>\n",
       "      <td>2020-04-05 10:27:38.0531290</td>\n",
       "      <td>2020-04-05 10:27:38.0531290</td>\n",
       "      <td>Group for fans of Beitar Jerusalem f.c.</td>\n",
       "      <td>NaN</td>\n",
       "      <td>//userscontent2.emaze.com/userinfo//cover/b397...</td>\n",
       "      <td>//userscontent2.emaze.com/userinfo//image/1e5a...</td>\n",
       "      <td>NaN</td>\n",
       "    </tr>\n",
       "    <tr>\n",
       "      <td>2</td>\n",
       "      <td>3</td>\n",
       "      <td>newgroupwithdate2</td>\n",
       "      <td>NaN</td>\n",
       "      <td>0</td>\n",
       "      <td>0</td>\n",
       "      <td>0</td>\n",
       "      <td>0</td>\n",
       "      <td>NaN</td>\n",
       "      <td>NaN</td>\n",
       "      <td>2020-04-05 12:00:36.2022096</td>\n",
       "      <td>2020-04-05 12:00:36.2022096</td>\n",
       "      <td>NaN</td>\n",
       "      <td>NaN</td>\n",
       "      <td>NaN</td>\n",
       "      <td>NaN</td>\n",
       "      <td>NaN</td>\n",
       "    </tr>\n",
       "    <tr>\n",
       "      <td>3</td>\n",
       "      <td>4</td>\n",
       "      <td>another-group</td>\n",
       "      <td>NaN</td>\n",
       "      <td>0</td>\n",
       "      <td>0</td>\n",
       "      <td>0</td>\n",
       "      <td>0</td>\n",
       "      <td>NaN</td>\n",
       "      <td>NaN</td>\n",
       "      <td>2020-04-20 08:57:01.8046276</td>\n",
       "      <td>2020-04-20 08:57:01.8046276</td>\n",
       "      <td>NaN</td>\n",
       "      <td>NaN</td>\n",
       "      <td>NaN</td>\n",
       "      <td>NaN</td>\n",
       "      <td>NaN</td>\n",
       "    </tr>\n",
       "    <tr>\n",
       "      <td>4</td>\n",
       "      <td>5</td>\n",
       "      <td>\"\"</td>\n",
       "      <td>NaN</td>\n",
       "      <td>0</td>\n",
       "      <td>0</td>\n",
       "      <td>0</td>\n",
       "      <td>0</td>\n",
       "      <td>NaN</td>\n",
       "      <td>NaN</td>\n",
       "      <td>2020-04-20 10:44:39.2241056</td>\n",
       "      <td>2020-04-20 10:44:39.2241056</td>\n",
       "      <td>NaN</td>\n",
       "      <td>NaN</td>\n",
       "      <td>NaN</td>\n",
       "      <td>NaN</td>\n",
       "      <td>NaN</td>\n",
       "    </tr>\n",
       "  </tbody>\n",
       "</table>\n",
       "</div>"
      ],
      "text/plain": [
       "   GroupID          GroupName                                 Admin  Privecy  \\\n",
       "0        1    BeitarJerusalem  d1f13501-60bf-4dd8-b6e8-c11d2f8eab8c        1   \n",
       "1        2         BeitarFans  d1f13501-60bf-4dd8-b6e8-c11d2f8eab8c        1   \n",
       "2        3  newgroupwithdate2                                   NaN        0   \n",
       "3        4      another-group                                   NaN        0   \n",
       "4        5                 \"\"                                   NaN        0   \n",
       "\n",
       "   Visibility  priority  varified  AssociatedGroupsJson  ModeratorsJson  \\\n",
       "0           0         0         0                   NaN             NaN   \n",
       "1           0         0         0                   NaN             NaN   \n",
       "2           0         0         0                   NaN             NaN   \n",
       "3           0         0         0                   NaN             NaN   \n",
       "4           0         0         0                   NaN             NaN   \n",
       "\n",
       "                   DateCreated                  DateUpdated  \\\n",
       "0  2020-04-05 10:27:38.0531290  2020-04-05 10:27:38.0531290   \n",
       "1  2020-04-05 10:27:38.0531290  2020-04-05 10:27:38.0531290   \n",
       "2  2020-04-05 12:00:36.2022096  2020-04-05 12:00:36.2022096   \n",
       "3  2020-04-20 08:57:01.8046276  2020-04-20 08:57:01.8046276   \n",
       "4  2020-04-20 10:44:39.2241056  2020-04-20 10:44:39.2241056   \n",
       "\n",
       "                                AboutGroup                       EmazeSite  \\\n",
       "0                  Group of Beitar players  https://emaze.me/diogoverdasca   \n",
       "1  Group for fans of Beitar Jerusalem f.c.                             NaN   \n",
       "2                                      NaN                             NaN   \n",
       "3                                      NaN                             NaN   \n",
       "4                                      NaN                             NaN   \n",
       "\n",
       "                                       GroupCoverUrl  \\\n",
       "0  //userscontent2.emaze.com/userinfo//cover/2dc9...   \n",
       "1  //userscontent2.emaze.com/userinfo//cover/b397...   \n",
       "2                                                NaN   \n",
       "3                                                NaN   \n",
       "4                                                NaN   \n",
       "\n",
       "                                       GroupPhotoUrl  \\\n",
       "0  //userscontent2.emaze.com/userinfo//image/7c4d...   \n",
       "1  //userscontent2.emaze.com/userinfo//image/1e5a...   \n",
       "2                                                NaN   \n",
       "3                                                NaN   \n",
       "4                                                NaN   \n",
       "\n",
       "                                        SiteThumnail  \n",
       "0  //storage.googleapis.com/userscontent2.emaze.c...  \n",
       "1                                                NaN  \n",
       "2                                                NaN  \n",
       "3                                                NaN  \n",
       "4                                                NaN  "
      ]
     },
     "execution_count": 34,
     "metadata": {},
     "output_type": "execute_result"
    }
   ],
   "source": [
    "groups.head()"
   ]
  },
  {
   "cell_type": "code",
   "execution_count": 35,
   "metadata": {
    "scrolled": false
   },
   "outputs": [],
   "source": [
    "groups = groups.rename(columns = {'GroupID':'EmazeMeGroupID'})"
   ]
  },
  {
   "cell_type": "markdown",
   "metadata": {},
   "source": [
    "## EmazeMeGroupFollowers"
   ]
  },
  {
   "cell_type": "code",
   "execution_count": 36,
   "metadata": {
    "scrolled": false
   },
   "outputs": [],
   "source": [
    "group_f = pd.read_csv('data/EmazeMeGroupFollowers.csv')"
   ]
  },
  {
   "cell_type": "code",
   "execution_count": 37,
   "metadata": {
    "scrolled": true
   },
   "outputs": [
    {
     "data": {
      "text/plain": [
       "FollowId          106\n",
       "FollowerId        106\n",
       "EmazeMeGroupId    106\n",
       "FollowingSince    106\n",
       "dtype: int64"
      ]
     },
     "execution_count": 37,
     "metadata": {},
     "output_type": "execute_result"
    }
   ],
   "source": [
    "group_f.count()"
   ]
  },
  {
   "cell_type": "code",
   "execution_count": 38,
   "metadata": {
    "scrolled": false
   },
   "outputs": [
    {
     "data": {
      "text/html": [
       "<div>\n",
       "<style scoped>\n",
       "    .dataframe tbody tr th:only-of-type {\n",
       "        vertical-align: middle;\n",
       "    }\n",
       "\n",
       "    .dataframe tbody tr th {\n",
       "        vertical-align: top;\n",
       "    }\n",
       "\n",
       "    .dataframe thead th {\n",
       "        text-align: right;\n",
       "    }\n",
       "</style>\n",
       "<table border=\"1\" class=\"dataframe\">\n",
       "  <thead>\n",
       "    <tr style=\"text-align: right;\">\n",
       "      <th></th>\n",
       "      <th>FollowId</th>\n",
       "      <th>FollowerId</th>\n",
       "      <th>EmazeMeGroupId</th>\n",
       "      <th>FollowingSince</th>\n",
       "    </tr>\n",
       "  </thead>\n",
       "  <tbody>\n",
       "    <tr>\n",
       "      <td>0</td>\n",
       "      <td>3</td>\n",
       "      <td>240238a0-ce99-4ea7-ac77-eff09fb5eff2</td>\n",
       "      <td>1</td>\n",
       "      <td>0001-01-03 00:00:00.000</td>\n",
       "    </tr>\n",
       "    <tr>\n",
       "      <td>1</td>\n",
       "      <td>4</td>\n",
       "      <td>240238a0-ce99-4ea7-ac77-eff09fb5eff2</td>\n",
       "      <td>2</td>\n",
       "      <td>0001-01-03 00:00:00.000</td>\n",
       "    </tr>\n",
       "    <tr>\n",
       "      <td>2</td>\n",
       "      <td>5</td>\n",
       "      <td>e9477dec-c960-4f11-a563-9781cf8b1c15</td>\n",
       "      <td>1</td>\n",
       "      <td>0001-01-03 00:00:00.000</td>\n",
       "    </tr>\n",
       "    <tr>\n",
       "      <td>3</td>\n",
       "      <td>6</td>\n",
       "      <td>e9477dec-c960-4f11-a563-9781cf8b1c15</td>\n",
       "      <td>2</td>\n",
       "      <td>0001-01-03 00:00:00.000</td>\n",
       "    </tr>\n",
       "    <tr>\n",
       "      <td>4</td>\n",
       "      <td>7</td>\n",
       "      <td>93aff917-ec28-4201-b1d2-788e275671b2</td>\n",
       "      <td>1</td>\n",
       "      <td>0001-01-03 00:00:00.000</td>\n",
       "    </tr>\n",
       "  </tbody>\n",
       "</table>\n",
       "</div>"
      ],
      "text/plain": [
       "   FollowId                            FollowerId  EmazeMeGroupId  \\\n",
       "0         3  240238a0-ce99-4ea7-ac77-eff09fb5eff2               1   \n",
       "1         4  240238a0-ce99-4ea7-ac77-eff09fb5eff2               2   \n",
       "2         5  e9477dec-c960-4f11-a563-9781cf8b1c15               1   \n",
       "3         6  e9477dec-c960-4f11-a563-9781cf8b1c15               2   \n",
       "4         7  93aff917-ec28-4201-b1d2-788e275671b2               1   \n",
       "\n",
       "            FollowingSince  \n",
       "0  0001-01-03 00:00:00.000  \n",
       "1  0001-01-03 00:00:00.000  \n",
       "2  0001-01-03 00:00:00.000  \n",
       "3  0001-01-03 00:00:00.000  \n",
       "4  0001-01-03 00:00:00.000  "
      ]
     },
     "execution_count": 38,
     "metadata": {},
     "output_type": "execute_result"
    }
   ],
   "source": [
    "group_f.head()"
   ]
  },
  {
   "cell_type": "code",
   "execution_count": 39,
   "metadata": {
    "scrolled": false
   },
   "outputs": [],
   "source": [
    "#create a values column for the matrix, make everything 1 since already followed\n",
    "group_f['following'] = 1"
   ]
  },
  {
   "cell_type": "code",
   "execution_count": 40,
   "metadata": {
    "scrolled": false
   },
   "outputs": [],
   "source": [
    "#dictionary for groupid to groupname\n",
    "item_dict = dict(zip(groups['EmazeMeGroupID'], groups['GroupName']))"
   ]
  },
  {
   "cell_type": "markdown",
   "metadata": {},
   "source": [
    "## Create sparse FollowerId and Quantity matrix"
   ]
  },
  {
   "cell_type": "code",
   "execution_count": 41,
   "metadata": {
    "scrolled": false
   },
   "outputs": [],
   "source": [
    "group_matrix_df = group_f.pivot_table(\n",
    "    values='following', \n",
    "    index='FollowerId', \n",
    "    columns='EmazeMeGroupId'\n",
    ")"
   ]
  },
  {
   "cell_type": "code",
   "execution_count": 42,
   "metadata": {
    "scrolled": true
   },
   "outputs": [
    {
     "data": {
      "text/html": [
       "<div>\n",
       "<style scoped>\n",
       "    .dataframe tbody tr th:only-of-type {\n",
       "        vertical-align: middle;\n",
       "    }\n",
       "\n",
       "    .dataframe tbody tr th {\n",
       "        vertical-align: top;\n",
       "    }\n",
       "\n",
       "    .dataframe thead th {\n",
       "        text-align: right;\n",
       "    }\n",
       "</style>\n",
       "<table border=\"1\" class=\"dataframe\">\n",
       "  <thead>\n",
       "    <tr style=\"text-align: right;\">\n",
       "      <th>EmazeMeGroupId</th>\n",
       "      <th>1</th>\n",
       "      <th>2</th>\n",
       "      <th>13</th>\n",
       "      <th>14</th>\n",
       "      <th>15</th>\n",
       "      <th>26</th>\n",
       "      <th>30</th>\n",
       "      <th>31</th>\n",
       "      <th>32</th>\n",
       "      <th>37</th>\n",
       "      <th>38</th>\n",
       "    </tr>\n",
       "    <tr>\n",
       "      <th>FollowerId</th>\n",
       "      <th></th>\n",
       "      <th></th>\n",
       "      <th></th>\n",
       "      <th></th>\n",
       "      <th></th>\n",
       "      <th></th>\n",
       "      <th></th>\n",
       "      <th></th>\n",
       "      <th></th>\n",
       "      <th></th>\n",
       "      <th></th>\n",
       "    </tr>\n",
       "  </thead>\n",
       "  <tbody>\n",
       "    <tr>\n",
       "      <td>09d32136-ed59-49fd-b553-5c1448aa92fd</td>\n",
       "      <td>NaN</td>\n",
       "      <td>NaN</td>\n",
       "      <td>NaN</td>\n",
       "      <td>NaN</td>\n",
       "      <td>NaN</td>\n",
       "      <td>1.0</td>\n",
       "      <td>NaN</td>\n",
       "      <td>NaN</td>\n",
       "      <td>NaN</td>\n",
       "      <td>NaN</td>\n",
       "      <td>NaN</td>\n",
       "    </tr>\n",
       "    <tr>\n",
       "      <td>1c1994c7-9bb0-477d-83dd-dc0d6f822c10</td>\n",
       "      <td>NaN</td>\n",
       "      <td>NaN</td>\n",
       "      <td>NaN</td>\n",
       "      <td>NaN</td>\n",
       "      <td>NaN</td>\n",
       "      <td>1.0</td>\n",
       "      <td>NaN</td>\n",
       "      <td>NaN</td>\n",
       "      <td>NaN</td>\n",
       "      <td>NaN</td>\n",
       "      <td>NaN</td>\n",
       "    </tr>\n",
       "    <tr>\n",
       "      <td>240238a0-ce99-4ea7-ac77-eff09fb5eff2</td>\n",
       "      <td>1.0</td>\n",
       "      <td>1.0</td>\n",
       "      <td>NaN</td>\n",
       "      <td>1.0</td>\n",
       "      <td>1.0</td>\n",
       "      <td>NaN</td>\n",
       "      <td>NaN</td>\n",
       "      <td>NaN</td>\n",
       "      <td>NaN</td>\n",
       "      <td>NaN</td>\n",
       "      <td>NaN</td>\n",
       "    </tr>\n",
       "    <tr>\n",
       "      <td>2415e720-8d4c-44c7-9cbf-cb1e76dcf4e8</td>\n",
       "      <td>NaN</td>\n",
       "      <td>NaN</td>\n",
       "      <td>NaN</td>\n",
       "      <td>NaN</td>\n",
       "      <td>NaN</td>\n",
       "      <td>1.0</td>\n",
       "      <td>NaN</td>\n",
       "      <td>NaN</td>\n",
       "      <td>NaN</td>\n",
       "      <td>NaN</td>\n",
       "      <td>NaN</td>\n",
       "    </tr>\n",
       "    <tr>\n",
       "      <td>24c1d879-cb12-4582-87b1-982c3b9ef4e8</td>\n",
       "      <td>NaN</td>\n",
       "      <td>NaN</td>\n",
       "      <td>NaN</td>\n",
       "      <td>NaN</td>\n",
       "      <td>NaN</td>\n",
       "      <td>1.0</td>\n",
       "      <td>NaN</td>\n",
       "      <td>NaN</td>\n",
       "      <td>NaN</td>\n",
       "      <td>NaN</td>\n",
       "      <td>NaN</td>\n",
       "    </tr>\n",
       "  </tbody>\n",
       "</table>\n",
       "</div>"
      ],
      "text/plain": [
       "EmazeMeGroupId                         1    2   13   14   15   26  30  31  32  \\\n",
       "FollowerId                                                                      \n",
       "09d32136-ed59-49fd-b553-5c1448aa92fd  NaN  NaN NaN  NaN  NaN  1.0 NaN NaN NaN   \n",
       "1c1994c7-9bb0-477d-83dd-dc0d6f822c10  NaN  NaN NaN  NaN  NaN  1.0 NaN NaN NaN   \n",
       "240238a0-ce99-4ea7-ac77-eff09fb5eff2  1.0  1.0 NaN  1.0  1.0  NaN NaN NaN NaN   \n",
       "2415e720-8d4c-44c7-9cbf-cb1e76dcf4e8  NaN  NaN NaN  NaN  NaN  1.0 NaN NaN NaN   \n",
       "24c1d879-cb12-4582-87b1-982c3b9ef4e8  NaN  NaN NaN  NaN  NaN  1.0 NaN NaN NaN   \n",
       "\n",
       "EmazeMeGroupId                        37  38  \n",
       "FollowerId                                    \n",
       "09d32136-ed59-49fd-b553-5c1448aa92fd NaN NaN  \n",
       "1c1994c7-9bb0-477d-83dd-dc0d6f822c10 NaN NaN  \n",
       "240238a0-ce99-4ea7-ac77-eff09fb5eff2 NaN NaN  \n",
       "2415e720-8d4c-44c7-9cbf-cb1e76dcf4e8 NaN NaN  \n",
       "24c1d879-cb12-4582-87b1-982c3b9ef4e8 NaN NaN  "
      ]
     },
     "execution_count": 42,
     "metadata": {},
     "output_type": "execute_result"
    }
   ],
   "source": [
    "group_matrix_df.head()"
   ]
  },
  {
   "cell_type": "markdown",
   "metadata": {},
   "source": [
    "To evaluate the recommender system mathematically, we are taking out 10 random 1.0's in the table, replacing them with NaN, and will see the matrix created by SVD and how those points compare to 1.0 "
   ]
  },
  {
   "cell_type": "code",
   "execution_count": 43,
   "metadata": {},
   "outputs": [],
   "source": [
    "#evaluation, taking out 10 1.0s\n",
    "group_matrix_df.iloc[2,1] = np.nan\n",
    "group_matrix_df.iloc[19,0] = np.nan\n",
    "group_matrix_df.iloc[22,0] = np.nan\n",
    "group_matrix_df.iloc[26,1] = np.nan\n",
    "group_matrix_df.iloc[26,2] = np.nan\n",
    "group_matrix_df.iloc[53,2] = np.nan\n",
    "group_matrix_df.iloc[49,1] = np.nan\n",
    "group_matrix_df.iloc[49,0] = np.nan\n",
    "group_matrix_df.iloc[48,2] = np.nan\n",
    "group_matrix_df.iloc[48,3] = np.nan"
   ]
  },
  {
   "cell_type": "code",
   "execution_count": 44,
   "metadata": {
    "scrolled": false
   },
   "outputs": [],
   "source": [
    "follower_id_list = np.array(group_matrix_df.index.tolist())\n",
    "group_id_list = np.array(group_matrix_df.columns.tolist())"
   ]
  },
  {
   "cell_type": "code",
   "execution_count": 45,
   "metadata": {
    "scrolled": false
   },
   "outputs": [],
   "source": [
    "from scipy.sparse import coo_matrix\n",
    "from scipy.sparse.linalg import svds"
   ]
  },
  {
   "cell_type": "code",
   "execution_count": 46,
   "metadata": {
    "scrolled": false
   },
   "outputs": [],
   "source": [
    "#turn the dataframe into a sparse matrix \n",
    "group_mtx = group_matrix_df.fillna(0).values.copy()\n",
    "group_sparse_mtx = coo_matrix(group_mtx)"
   ]
  },
  {
   "cell_type": "code",
   "execution_count": 47,
   "metadata": {
    "scrolled": true
   },
   "outputs": [
    {
     "data": {
      "text/plain": [
       "<62x11 sparse matrix of type '<class 'numpy.float64'>'\n",
       "\twith 96 stored elements in COOrdinate format>"
      ]
     },
     "execution_count": 47,
     "metadata": {},
     "output_type": "execute_result"
    }
   ],
   "source": [
    "group_sparse_mtx"
   ]
  },
  {
   "cell_type": "markdown",
   "metadata": {},
   "source": [
    "## SVD of matrix"
   ]
  },
  {
   "cell_type": "code",
   "execution_count": 48,
   "metadata": {
    "scrolled": false
   },
   "outputs": [],
   "source": [
    "U, s, V = svds(group_sparse_mtx, k=1)"
   ]
  },
  {
   "cell_type": "markdown",
   "metadata": {},
   "source": [
    "## Multiply the decompostion back to get approx matrix"
   ]
  },
  {
   "cell_type": "code",
   "execution_count": 49,
   "metadata": {
    "scrolled": false
   },
   "outputs": [],
   "source": [
    "#make sigma into a diagonal matrix\n",
    "s_diag = np.diag(s)"
   ]
  },
  {
   "cell_type": "code",
   "execution_count": 50,
   "metadata": {
    "scrolled": false
   },
   "outputs": [],
   "source": [
    "group_svd = U @ s_diag @ V"
   ]
  },
  {
   "cell_type": "code",
   "execution_count": 51,
   "metadata": {},
   "outputs": [
    {
     "data": {
      "text/plain": [
       "array([[1.78842656e-01, 1.62119765e-01, 2.30980510e-02, 5.06910908e-02,\n",
       "        1.30789195e-01, 9.13631544e-01, 9.30066576e-03, 9.30066576e-03,\n",
       "        9.30066576e-03, 9.30066576e-03, 9.30066576e-03],\n",
       "       [1.78842656e-01, 1.62119765e-01, 2.30980510e-02, 5.06910908e-02,\n",
       "        1.30789195e-01, 9.13631544e-01, 9.30066576e-03, 9.30066576e-03,\n",
       "        9.30066576e-03, 9.30066576e-03, 9.30066576e-03],\n",
       "       [7.05329323e-02, 6.39376683e-02, 9.10953407e-03, 1.99918261e-02,\n",
       "        5.15813488e-02, 3.60322941e-01, 3.66804678e-03, 3.66804678e-03,\n",
       "        3.66804678e-03, 3.66804678e-03, 3.66804678e-03],\n",
       "       [1.78842656e-01, 1.62119765e-01, 2.30980510e-02, 5.06910908e-02,\n",
       "        1.30789195e-01, 9.13631544e-01, 9.30066576e-03, 9.30066576e-03,\n",
       "        9.30066576e-03, 9.30066576e-03, 9.30066576e-03],\n",
       "       [1.78842656e-01, 1.62119765e-01, 2.30980510e-02, 5.06910908e-02,\n",
       "        1.30789195e-01, 9.13631544e-01, 9.30066576e-03, 9.30066576e-03,\n",
       "        9.30066576e-03, 9.30066576e-03, 9.30066576e-03],\n",
       "       [6.67431257e-02, 6.05022320e-02, 8.62006949e-03, 1.89176448e-02,\n",
       "        4.88098301e-02, 3.40962421e-01, 3.47095887e-03, 3.47095887e-03,\n",
       "        3.47095887e-03, 3.47095887e-03, 3.47095887e-03],\n",
       "       [1.78842656e-01, 1.62119765e-01, 2.30980510e-02, 5.06910908e-02,\n",
       "        1.30789195e-01, 9.13631544e-01, 9.30066576e-03, 9.30066576e-03,\n",
       "        9.30066576e-03, 9.30066576e-03, 9.30066576e-03],\n",
       "       [1.78842656e-01, 1.62119765e-01, 2.30980510e-02, 5.06910908e-02,\n",
       "        1.30789195e-01, 9.13631544e-01, 9.30066576e-03, 9.30066576e-03,\n",
       "        9.30066576e-03, 9.30066576e-03, 9.30066576e-03],\n",
       "       [6.67431257e-02, 6.05022320e-02, 8.62006949e-03, 1.89176448e-02,\n",
       "        4.88098301e-02, 3.40962421e-01, 3.47095887e-03, 3.47095887e-03,\n",
       "        3.47095887e-03, 3.47095887e-03, 3.47095887e-03],\n",
       "       [4.52142531e-03, 4.09864417e-03, 5.83955276e-04, 1.28155098e-03,\n",
       "        3.30655778e-03, 2.30980510e-02, 2.35135546e-04, 2.35135546e-04,\n",
       "        2.35135546e-04, 2.35135546e-04, 2.35135546e-04],\n",
       "       [1.78842656e-01, 1.62119765e-01, 2.30980510e-02, 5.06910908e-02,\n",
       "        1.30789195e-01, 9.13631544e-01, 9.30066576e-03, 9.30066576e-03,\n",
       "        9.30066576e-03, 9.30066576e-03, 9.30066576e-03],\n",
       "       [1.78842656e-01, 1.62119765e-01, 2.30980510e-02, 5.06910908e-02,\n",
       "        1.30789195e-01, 9.13631544e-01, 9.30066576e-03, 9.30066576e-03,\n",
       "        9.30066576e-03, 9.30066576e-03, 9.30066576e-03],\n",
       "       [1.78842656e-01, 1.62119765e-01, 2.30980510e-02, 5.06910908e-02,\n",
       "        1.30789195e-01, 9.13631544e-01, 9.30066576e-03, 9.30066576e-03,\n",
       "        9.30066576e-03, 9.30066576e-03, 9.30066576e-03],\n",
       "       [6.67431257e-02, 6.05022320e-02, 8.62006949e-03, 1.89176448e-02,\n",
       "        4.88098301e-02, 3.40962421e-01, 3.47095887e-03, 3.47095887e-03,\n",
       "        3.47095887e-03, 3.47095887e-03, 3.47095887e-03],\n",
       "       [1.78842656e-01, 1.62119765e-01, 2.30980510e-02, 5.06910908e-02,\n",
       "        1.30789195e-01, 9.13631544e-01, 9.30066576e-03, 9.30066576e-03,\n",
       "        9.30066576e-03, 9.30066576e-03, 9.30066576e-03],\n",
       "       [4.52142531e-03, 4.09864417e-03, 5.83955276e-04, 1.28155098e-03,\n",
       "        3.30655778e-03, 2.30980510e-02, 2.35135546e-04, 2.35135546e-04,\n",
       "        2.35135546e-04, 2.35135546e-04, 2.35135546e-04],\n",
       "       [1.78842656e-01, 1.62119765e-01, 2.30980510e-02, 5.06910908e-02,\n",
       "        1.30789195e-01, 9.13631544e-01, 9.30066576e-03, 9.30066576e-03,\n",
       "        9.30066576e-03, 9.30066576e-03, 9.30066576e-03],\n",
       "       [1.78842656e-01, 1.62119765e-01, 2.30980510e-02, 5.06910908e-02,\n",
       "        1.30789195e-01, 9.13631544e-01, 9.30066576e-03, 9.30066576e-03,\n",
       "        9.30066576e-03, 9.30066576e-03, 9.30066576e-03],\n",
       "       [1.78842656e-01, 1.62119765e-01, 2.30980510e-02, 5.06910908e-02,\n",
       "        1.30789195e-01, 9.13631544e-01, 9.30066576e-03, 9.30066576e-03,\n",
       "        9.30066576e-03, 9.30066576e-03, 9.30066576e-03],\n",
       "       [6.18581238e-02, 5.60740079e-02, 7.98915723e-03, 1.75330418e-02,\n",
       "        4.52373856e-02, 3.16007011e-01, 3.21691562e-03, 3.21691562e-03,\n",
       "        3.21691562e-03, 3.21691562e-03, 3.21691562e-03],\n",
       "       [1.78842656e-01, 1.62119765e-01, 2.30980510e-02, 5.06910908e-02,\n",
       "        1.30789195e-01, 9.13631544e-01, 9.30066576e-03, 9.30066576e-03,\n",
       "        9.30066576e-03, 9.30066576e-03, 9.30066576e-03],\n",
       "       [1.78842656e-01, 1.62119765e-01, 2.30980510e-02, 5.06910908e-02,\n",
       "        1.30789195e-01, 9.13631544e-01, 9.30066576e-03, 9.30066576e-03,\n",
       "        9.30066576e-03, 9.30066576e-03, 9.30066576e-03],\n",
       "       [3.17348165e-02, 2.87674155e-02, 4.09864417e-03, 8.99490368e-03,\n",
       "        2.32079482e-02, 1.62119765e-01, 1.65036087e-03, 1.65036087e-03,\n",
       "        1.65036087e-03, 1.65036087e-03, 1.65036087e-03],\n",
       "       [1.78842656e-01, 1.62119765e-01, 2.30980510e-02, 5.06910908e-02,\n",
       "        1.30789195e-01, 9.13631544e-01, 9.30066576e-03, 9.30066576e-03,\n",
       "        9.30066576e-03, 9.30066576e-03, 9.30066576e-03],\n",
       "       [6.67431257e-02, 6.05022320e-02, 8.62006949e-03, 1.89176448e-02,\n",
       "        4.88098301e-02, 3.40962421e-01, 3.47095887e-03, 3.47095887e-03,\n",
       "        3.47095887e-03, 3.47095887e-03, 3.47095887e-03],\n",
       "       [6.67431257e-02, 6.05022320e-02, 8.62006949e-03, 1.89176448e-02,\n",
       "        4.88098301e-02, 3.40962421e-01, 3.47095887e-03, 3.47095887e-03,\n",
       "        3.47095887e-03, 3.47095887e-03, 3.47095887e-03],\n",
       "       [2.49375588e-01, 2.26057434e-01, 3.22075851e-02, 7.06829169e-02,\n",
       "        1.82370543e-01, 1.27395449e+00, 1.29687125e-02, 1.29687125e-02,\n",
       "        1.29687125e-02, 1.29687125e-02, 1.29687125e-02],\n",
       "       [6.67431257e-02, 6.05022320e-02, 8.62006949e-03, 1.89176448e-02,\n",
       "        4.88098301e-02, 3.40962421e-01, 3.47095887e-03, 3.47095887e-03,\n",
       "        3.47095887e-03, 3.47095887e-03, 3.47095887e-03],\n",
       "       [1.78842656e-01, 1.62119765e-01, 2.30980510e-02, 5.06910908e-02,\n",
       "        1.30789195e-01, 9.13631544e-01, 9.30066576e-03, 9.30066576e-03,\n",
       "        9.30066576e-03, 9.30066576e-03, 9.30066576e-03],\n",
       "       [1.78842656e-01, 1.62119765e-01, 2.30980510e-02, 5.06910908e-02,\n",
       "        1.30789195e-01, 9.13631544e-01, 9.30066576e-03, 9.30066576e-03,\n",
       "        9.30066576e-03, 9.30066576e-03, 9.30066576e-03],\n",
       "       [6.67431257e-02, 6.05022320e-02, 8.62006949e-03, 1.89176448e-02,\n",
       "        4.88098301e-02, 3.40962421e-01, 3.47095887e-03, 3.47095887e-03,\n",
       "        3.47095887e-03, 3.47095887e-03, 3.47095887e-03],\n",
       "       [1.78842656e-01, 1.62119765e-01, 2.30980510e-02, 5.06910908e-02,\n",
       "        1.30789195e-01, 9.13631544e-01, 9.30066576e-03, 9.30066576e-03,\n",
       "        9.30066576e-03, 9.30066576e-03, 9.30066576e-03],\n",
       "       [1.78842656e-01, 1.62119765e-01, 2.30980510e-02, 5.06910908e-02,\n",
       "        1.30789195e-01, 9.13631544e-01, 9.30066576e-03, 9.30066576e-03,\n",
       "        9.30066576e-03, 9.30066576e-03, 9.30066576e-03],\n",
       "       [1.78842656e-01, 1.62119765e-01, 2.30980510e-02, 5.06910908e-02,\n",
       "        1.30789195e-01, 9.13631544e-01, 9.30066576e-03, 9.30066576e-03,\n",
       "        9.30066576e-03, 9.30066576e-03, 9.30066576e-03],\n",
       "       [1.78842656e-01, 1.62119765e-01, 2.30980510e-02, 5.06910908e-02,\n",
       "        1.30789195e-01, 9.13631544e-01, 9.30066576e-03, 9.30066576e-03,\n",
       "        9.30066576e-03, 9.30066576e-03, 9.30066576e-03],\n",
       "       [2.71187664e-01, 2.45829945e-01, 3.50246783e-02, 7.68653228e-02,\n",
       "        1.98321904e-01, 1.38538316e+00, 1.41030438e-02, 1.41030438e-02,\n",
       "        1.41030438e-02, 1.41030438e-02, 1.41030438e-02],\n",
       "       [1.78842656e-01, 1.62119765e-01, 2.30980510e-02, 5.06910908e-02,\n",
       "        1.30789195e-01, 9.13631544e-01, 9.30066576e-03, 9.30066576e-03,\n",
       "        9.30066576e-03, 9.30066576e-03, 9.30066576e-03],\n",
       "       [1.78842656e-01, 1.62119765e-01, 2.30980510e-02, 5.06910908e-02,\n",
       "        1.30789195e-01, 9.13631544e-01, 9.30066576e-03, 9.30066576e-03,\n",
       "        9.30066576e-03, 9.30066576e-03, 9.30066576e-03],\n",
       "       [1.78842656e-01, 1.62119765e-01, 2.30980510e-02, 5.06910908e-02,\n",
       "        1.30789195e-01, 9.13631544e-01, 9.30066576e-03, 9.30066576e-03,\n",
       "        9.30066576e-03, 9.30066576e-03, 9.30066576e-03],\n",
       "       [6.67431257e-02, 6.05022320e-02, 8.62006949e-03, 1.89176448e-02,\n",
       "        4.88098301e-02, 3.40962421e-01, 3.47095887e-03, 3.47095887e-03,\n",
       "        3.47095887e-03, 3.47095887e-03, 3.47095887e-03],\n",
       "       [1.78842656e-01, 1.62119765e-01, 2.30980510e-02, 5.06910908e-02,\n",
       "        1.30789195e-01, 9.13631544e-01, 9.30066576e-03, 9.30066576e-03,\n",
       "        9.30066576e-03, 9.30066576e-03, 9.30066576e-03],\n",
       "       [1.78842656e-01, 1.62119765e-01, 2.30980510e-02, 5.06910908e-02,\n",
       "        1.30789195e-01, 9.13631544e-01, 9.30066576e-03, 9.30066576e-03,\n",
       "        9.30066576e-03, 9.30066576e-03, 9.30066576e-03],\n",
       "       [1.78842656e-01, 1.62119765e-01, 2.30980510e-02, 5.06910908e-02,\n",
       "        1.30789195e-01, 9.13631544e-01, 9.30066576e-03, 9.30066576e-03,\n",
       "        9.30066576e-03, 9.30066576e-03, 9.30066576e-03],\n",
       "       [1.78842656e-01, 1.62119765e-01, 2.30980510e-02, 5.06910908e-02,\n",
       "        1.30789195e-01, 9.13631544e-01, 9.30066576e-03, 9.30066576e-03,\n",
       "        9.30066576e-03, 9.30066576e-03, 9.30066576e-03],\n",
       "       [1.78842656e-01, 1.62119765e-01, 2.30980510e-02, 5.06910908e-02,\n",
       "        1.30789195e-01, 9.13631544e-01, 9.30066576e-03, 9.30066576e-03,\n",
       "        9.30066576e-03, 9.30066576e-03, 9.30066576e-03],\n",
       "       [8.08838549e-02, 7.33207159e-02, 1.04463859e-02, 2.29256874e-02,\n",
       "        5.91510688e-02, 4.13201430e-01, 4.20634382e-03, 4.20634382e-03,\n",
       "        4.20634382e-03, 4.20634382e-03, 4.20634382e-03],\n",
       "       [1.78842656e-01, 1.62119765e-01, 2.30980510e-02, 5.06910908e-02,\n",
       "        1.30789195e-01, 9.13631544e-01, 9.30066576e-03, 9.30066576e-03,\n",
       "        9.30066576e-03, 9.30066576e-03, 9.30066576e-03],\n",
       "       [1.78842656e-01, 1.62119765e-01, 2.30980510e-02, 5.06910908e-02,\n",
       "        1.30789195e-01, 9.13631544e-01, 9.30066576e-03, 9.30066576e-03,\n",
       "        9.30066576e-03, 9.30066576e-03, 9.30066576e-03],\n",
       "       [2.71187664e-01, 2.45829945e-01, 3.50246783e-02, 7.68653228e-02,\n",
       "        1.98321904e-01, 1.38538316e+00, 1.41030438e-02, 1.41030438e-02,\n",
       "        1.41030438e-02, 1.41030438e-02, 1.41030438e-02],\n",
       "       [4.00460484e-02, 3.63014960e-02, 5.17206404e-03, 1.13506359e-02,\n",
       "        2.92860246e-02, 2.04578336e-01, 2.08258432e-03, 2.08258432e-03,\n",
       "        2.08258432e-03, 2.08258432e-03, 2.08258432e-03],\n",
       "       [1.78842656e-01, 1.62119765e-01, 2.30980510e-02, 5.06910908e-02,\n",
       "        1.30789195e-01, 9.13631544e-01, 9.30066576e-03, 9.30066576e-03,\n",
       "        9.30066576e-03, 9.30066576e-03, 9.30066576e-03],\n",
       "       [1.78842656e-01, 1.62119765e-01, 2.30980510e-02, 5.06910908e-02,\n",
       "        1.30789195e-01, 9.13631544e-01, 9.30066576e-03, 9.30066576e-03,\n",
       "        9.30066576e-03, 9.30066576e-03, 9.30066576e-03],\n",
       "       [1.78842656e-01, 1.62119765e-01, 2.30980510e-02, 5.06910908e-02,\n",
       "        1.30789195e-01, 9.13631544e-01, 9.30066576e-03, 9.30066576e-03,\n",
       "        9.30066576e-03, 9.30066576e-03, 9.30066576e-03],\n",
       "       [9.23450076e-02, 8.37101802e-02, 1.19266273e-02, 2.61742320e-02,\n",
       "        6.75327098e-02, 4.71751616e-01, 4.80237808e-03, 4.80237808e-03,\n",
       "        4.80237808e-03, 4.80237808e-03, 4.80237808e-03],\n",
       "       [4.52142531e-03, 4.09864417e-03, 5.83955276e-04, 1.28155098e-03,\n",
       "        3.30655778e-03, 2.30980510e-02, 2.35135546e-04, 2.35135546e-04,\n",
       "        2.35135546e-04, 2.35135546e-04, 2.35135546e-04],\n",
       "       [4.52142531e-03, 4.09864417e-03, 5.83955276e-04, 1.28155098e-03,\n",
       "        3.30655778e-03, 2.30980510e-02, 2.35135546e-04, 2.35135546e-04,\n",
       "        2.35135546e-04, 2.35135546e-04, 2.35135546e-04],\n",
       "       [1.78842656e-01, 1.62119765e-01, 2.30980510e-02, 5.06910908e-02,\n",
       "        1.30789195e-01, 9.13631544e-01, 9.30066576e-03, 9.30066576e-03,\n",
       "        9.30066576e-03, 9.30066576e-03, 9.30066576e-03],\n",
       "       [6.67431257e-02, 6.05022320e-02, 8.62006949e-03, 1.89176448e-02,\n",
       "        4.88098301e-02, 3.40962421e-01, 3.47095887e-03, 3.47095887e-03,\n",
       "        3.47095887e-03, 3.47095887e-03, 3.47095887e-03],\n",
       "       [1.78842656e-01, 1.62119765e-01, 2.30980510e-02, 5.06910908e-02,\n",
       "        1.30789195e-01, 9.13631544e-01, 9.30066576e-03, 9.30066576e-03,\n",
       "        9.30066576e-03, 9.30066576e-03, 9.30066576e-03],\n",
       "       [1.78842656e-01, 1.62119765e-01, 2.30980510e-02, 5.06910908e-02,\n",
       "        1.30789195e-01, 9.13631544e-01, 9.30066576e-03, 9.30066576e-03,\n",
       "        9.30066576e-03, 9.30066576e-03, 9.30066576e-03],\n",
       "       [1.78842656e-01, 1.62119765e-01, 2.30980510e-02, 5.06910908e-02,\n",
       "        1.30789195e-01, 9.13631544e-01, 9.30066576e-03, 9.30066576e-03,\n",
       "        9.30066576e-03, 9.30066576e-03, 9.30066576e-03],\n",
       "       [1.78842656e-01, 1.62119765e-01, 2.30980510e-02, 5.06910908e-02,\n",
       "        1.30789195e-01, 9.13631544e-01, 9.30066576e-03, 9.30066576e-03,\n",
       "        9.30066576e-03, 9.30066576e-03, 9.30066576e-03]])"
      ]
     },
     "execution_count": 51,
     "metadata": {},
     "output_type": "execute_result"
    }
   ],
   "source": [
    "group_svd"
   ]
  },
  {
   "cell_type": "code",
   "execution_count": 52,
   "metadata": {},
   "outputs": [],
   "source": [
    "#divide each row in matrix by the max number in the row to normalize values, making 1 the highest\n",
    "for i in range(len(group_svd)):\n",
    "    for j in range(len(group_svd[i])):\n",
    "        group_svd[i][j] = group_svd[i][j] / max(group_svd[i])"
   ]
  },
  {
   "cell_type": "code",
   "execution_count": 53,
   "metadata": {},
   "outputs": [
    {
     "data": {
      "text/plain": [
       "array([[0.19574921, 0.17744546, 0.02528158, 0.05548308, 0.14315311,\n",
       "        1.        , 0.00930067, 0.00930067, 0.00930067, 0.00930067,\n",
       "        0.00930067],\n",
       "       [0.19574921, 0.17744546, 0.02528158, 0.05548308, 0.14315311,\n",
       "        1.        , 0.00930067, 0.00930067, 0.00930067, 0.00930067,\n",
       "        0.00930067],\n",
       "       [0.19574921, 0.17744546, 0.02528158, 0.05548308, 0.14315311,\n",
       "        1.        , 0.00366805, 0.00366805, 0.00366805, 0.00366805,\n",
       "        0.00366805],\n",
       "       [0.19574921, 0.17744546, 0.02528158, 0.05548308, 0.14315311,\n",
       "        1.        , 0.00930067, 0.00930067, 0.00930067, 0.00930067,\n",
       "        0.00930067],\n",
       "       [0.19574921, 0.17744546, 0.02528158, 0.05548308, 0.14315311,\n",
       "        1.        , 0.00930067, 0.00930067, 0.00930067, 0.00930067,\n",
       "        0.00930067],\n",
       "       [0.19574921, 0.17744546, 0.02528158, 0.05548308, 0.14315311,\n",
       "        1.        , 0.00347096, 0.00347096, 0.00347096, 0.00347096,\n",
       "        0.00347096],\n",
       "       [0.19574921, 0.17744546, 0.02528158, 0.05548308, 0.14315311,\n",
       "        1.        , 0.00930067, 0.00930067, 0.00930067, 0.00930067,\n",
       "        0.00930067],\n",
       "       [0.19574921, 0.17744546, 0.02528158, 0.05548308, 0.14315311,\n",
       "        1.        , 0.00930067, 0.00930067, 0.00930067, 0.00930067,\n",
       "        0.00930067],\n",
       "       [0.19574921, 0.17744546, 0.02528158, 0.05548308, 0.14315311,\n",
       "        1.        , 0.00347096, 0.00347096, 0.00347096, 0.00347096,\n",
       "        0.00347096],\n",
       "       [0.19574921, 0.02093824, 0.00298318, 0.0065469 , 0.01689181,\n",
       "        0.11799818, 0.00120121, 0.00120121, 0.00120121, 0.00120121,\n",
       "        0.00120121],\n",
       "       [0.19574921, 0.17744546, 0.02528158, 0.05548308, 0.14315311,\n",
       "        1.        , 0.00930067, 0.00930067, 0.00930067, 0.00930067,\n",
       "        0.00930067],\n",
       "       [0.19574921, 0.17744546, 0.02528158, 0.05548308, 0.14315311,\n",
       "        1.        , 0.00930067, 0.00930067, 0.00930067, 0.00930067,\n",
       "        0.00930067],\n",
       "       [0.19574921, 0.17744546, 0.02528158, 0.05548308, 0.14315311,\n",
       "        1.        , 0.00930067, 0.00930067, 0.00930067, 0.00930067,\n",
       "        0.00930067],\n",
       "       [0.19574921, 0.17744546, 0.02528158, 0.05548308, 0.14315311,\n",
       "        1.        , 0.00347096, 0.00347096, 0.00347096, 0.00347096,\n",
       "        0.00347096],\n",
       "       [0.19574921, 0.17744546, 0.02528158, 0.05548308, 0.14315311,\n",
       "        1.        , 0.00930067, 0.00930067, 0.00930067, 0.00930067,\n",
       "        0.00930067],\n",
       "       [0.19574921, 0.02093824, 0.00298318, 0.0065469 , 0.01689181,\n",
       "        0.11799818, 0.00120121, 0.00120121, 0.00120121, 0.00120121,\n",
       "        0.00120121],\n",
       "       [0.19574921, 0.17744546, 0.02528158, 0.05548308, 0.14315311,\n",
       "        1.        , 0.00930067, 0.00930067, 0.00930067, 0.00930067,\n",
       "        0.00930067],\n",
       "       [0.19574921, 0.17744546, 0.02528158, 0.05548308, 0.14315311,\n",
       "        1.        , 0.00930067, 0.00930067, 0.00930067, 0.00930067,\n",
       "        0.00930067],\n",
       "       [0.19574921, 0.17744546, 0.02528158, 0.05548308, 0.14315311,\n",
       "        1.        , 0.00930067, 0.00930067, 0.00930067, 0.00930067,\n",
       "        0.00930067],\n",
       "       [0.19574921, 0.17744546, 0.02528158, 0.05548308, 0.14315311,\n",
       "        1.        , 0.00321692, 0.00321692, 0.00321692, 0.00321692,\n",
       "        0.00321692],\n",
       "       [0.19574921, 0.17744546, 0.02528158, 0.05548308, 0.14315311,\n",
       "        1.        , 0.00930067, 0.00930067, 0.00930067, 0.00930067,\n",
       "        0.00930067],\n",
       "       [0.19574921, 0.17744546, 0.02528158, 0.05548308, 0.14315311,\n",
       "        1.        , 0.00930067, 0.00930067, 0.00930067, 0.00930067,\n",
       "        0.00930067],\n",
       "       [0.19574921, 0.14696057, 0.02093824, 0.04595116, 0.1185596 ,\n",
       "        0.82820136, 0.0019927 , 0.0019927 , 0.0019927 , 0.0019927 ,\n",
       "        0.0019927 ],\n",
       "       [0.19574921, 0.17744546, 0.02528158, 0.05548308, 0.14315311,\n",
       "        1.        , 0.00930067, 0.00930067, 0.00930067, 0.00930067,\n",
       "        0.00930067],\n",
       "       [0.19574921, 0.17744546, 0.02528158, 0.05548308, 0.14315311,\n",
       "        1.        , 0.00347096, 0.00347096, 0.00347096, 0.00347096,\n",
       "        0.00347096],\n",
       "       [0.19574921, 0.17744546, 0.02528158, 0.05548308, 0.14315311,\n",
       "        1.        , 0.00347096, 0.00347096, 0.00347096, 0.00347096,\n",
       "        0.00347096],\n",
       "       [0.19574921, 0.17744546, 0.02528158, 0.05548308, 0.14315311,\n",
       "        1.        , 0.01296871, 0.01296871, 0.01296871, 0.01296871,\n",
       "        0.01296871],\n",
       "       [0.19574921, 0.17744546, 0.02528158, 0.05548308, 0.14315311,\n",
       "        1.        , 0.00347096, 0.00347096, 0.00347096, 0.00347096,\n",
       "        0.00347096],\n",
       "       [0.19574921, 0.17744546, 0.02528158, 0.05548308, 0.14315311,\n",
       "        1.        , 0.00930067, 0.00930067, 0.00930067, 0.00930067,\n",
       "        0.00930067],\n",
       "       [0.19574921, 0.17744546, 0.02528158, 0.05548308, 0.14315311,\n",
       "        1.        , 0.00930067, 0.00930067, 0.00930067, 0.00930067,\n",
       "        0.00930067],\n",
       "       [0.19574921, 0.17744546, 0.02528158, 0.05548308, 0.14315311,\n",
       "        1.        , 0.00347096, 0.00347096, 0.00347096, 0.00347096,\n",
       "        0.00347096],\n",
       "       [0.19574921, 0.17744546, 0.02528158, 0.05548308, 0.14315311,\n",
       "        1.        , 0.00930067, 0.00930067, 0.00930067, 0.00930067,\n",
       "        0.00930067],\n",
       "       [0.19574921, 0.17744546, 0.02528158, 0.05548308, 0.14315311,\n",
       "        1.        , 0.00930067, 0.00930067, 0.00930067, 0.00930067,\n",
       "        0.00930067],\n",
       "       [0.19574921, 0.17744546, 0.02528158, 0.05548308, 0.14315311,\n",
       "        1.        , 0.00930067, 0.00930067, 0.00930067, 0.00930067,\n",
       "        0.00930067],\n",
       "       [0.19574921, 0.17744546, 0.02528158, 0.05548308, 0.14315311,\n",
       "        1.        , 0.00930067, 0.00930067, 0.00930067, 0.00930067,\n",
       "        0.00930067],\n",
       "       [0.19574921, 0.17744546, 0.02528158, 0.05548308, 0.14315311,\n",
       "        1.        , 0.01410304, 0.01410304, 0.01410304, 0.01410304,\n",
       "        0.01410304],\n",
       "       [0.19574921, 0.17744546, 0.02528158, 0.05548308, 0.14315311,\n",
       "        1.        , 0.00930067, 0.00930067, 0.00930067, 0.00930067,\n",
       "        0.00930067],\n",
       "       [0.19574921, 0.17744546, 0.02528158, 0.05548308, 0.14315311,\n",
       "        1.        , 0.00930067, 0.00930067, 0.00930067, 0.00930067,\n",
       "        0.00930067],\n",
       "       [0.19574921, 0.17744546, 0.02528158, 0.05548308, 0.14315311,\n",
       "        1.        , 0.00930067, 0.00930067, 0.00930067, 0.00930067,\n",
       "        0.00930067],\n",
       "       [0.19574921, 0.17744546, 0.02528158, 0.05548308, 0.14315311,\n",
       "        1.        , 0.00347096, 0.00347096, 0.00347096, 0.00347096,\n",
       "        0.00347096],\n",
       "       [0.19574921, 0.17744546, 0.02528158, 0.05548308, 0.14315311,\n",
       "        1.        , 0.00930067, 0.00930067, 0.00930067, 0.00930067,\n",
       "        0.00930067],\n",
       "       [0.19574921, 0.17744546, 0.02528158, 0.05548308, 0.14315311,\n",
       "        1.        , 0.00930067, 0.00930067, 0.00930067, 0.00930067,\n",
       "        0.00930067],\n",
       "       [0.19574921, 0.17744546, 0.02528158, 0.05548308, 0.14315311,\n",
       "        1.        , 0.00930067, 0.00930067, 0.00930067, 0.00930067,\n",
       "        0.00930067],\n",
       "       [0.19574921, 0.17744546, 0.02528158, 0.05548308, 0.14315311,\n",
       "        1.        , 0.00930067, 0.00930067, 0.00930067, 0.00930067,\n",
       "        0.00930067],\n",
       "       [0.19574921, 0.17744546, 0.02528158, 0.05548308, 0.14315311,\n",
       "        1.        , 0.00930067, 0.00930067, 0.00930067, 0.00930067,\n",
       "        0.00930067],\n",
       "       [0.19574921, 0.17744546, 0.02528158, 0.05548308, 0.14315311,\n",
       "        1.        , 0.00420634, 0.00420634, 0.00420634, 0.00420634,\n",
       "        0.00420634],\n",
       "       [0.19574921, 0.17744546, 0.02528158, 0.05548308, 0.14315311,\n",
       "        1.        , 0.00930067, 0.00930067, 0.00930067, 0.00930067,\n",
       "        0.00930067],\n",
       "       [0.19574921, 0.17744546, 0.02528158, 0.05548308, 0.14315311,\n",
       "        1.        , 0.00930067, 0.00930067, 0.00930067, 0.00930067,\n",
       "        0.00930067],\n",
       "       [0.19574921, 0.17744546, 0.02528158, 0.05548308, 0.14315311,\n",
       "        1.        , 0.01410304, 0.01410304, 0.01410304, 0.01410304,\n",
       "        0.01410304],\n",
       "       [0.19574921, 0.17744546, 0.02528158, 0.05548308, 0.14315311,\n",
       "        1.        , 0.00208258, 0.00208258, 0.00208258, 0.00208258,\n",
       "        0.00208258],\n",
       "       [0.19574921, 0.17744546, 0.02528158, 0.05548308, 0.14315311,\n",
       "        1.        , 0.00930067, 0.00930067, 0.00930067, 0.00930067,\n",
       "        0.00930067],\n",
       "       [0.19574921, 0.17744546, 0.02528158, 0.05548308, 0.14315311,\n",
       "        1.        , 0.00930067, 0.00930067, 0.00930067, 0.00930067,\n",
       "        0.00930067],\n",
       "       [0.19574921, 0.17744546, 0.02528158, 0.05548308, 0.14315311,\n",
       "        1.        , 0.00930067, 0.00930067, 0.00930067, 0.00930067,\n",
       "        0.00930067],\n",
       "       [0.19574921, 0.17744546, 0.02528158, 0.05548308, 0.14315311,\n",
       "        1.        , 0.00480238, 0.00480238, 0.00480238, 0.00480238,\n",
       "        0.00480238],\n",
       "       [0.19574921, 0.02093824, 0.00298318, 0.0065469 , 0.01689181,\n",
       "        0.11799818, 0.00120121, 0.00120121, 0.00120121, 0.00120121,\n",
       "        0.00120121],\n",
       "       [0.19574921, 0.02093824, 0.00298318, 0.0065469 , 0.01689181,\n",
       "        0.11799818, 0.00120121, 0.00120121, 0.00120121, 0.00120121,\n",
       "        0.00120121],\n",
       "       [0.19574921, 0.17744546, 0.02528158, 0.05548308, 0.14315311,\n",
       "        1.        , 0.00930067, 0.00930067, 0.00930067, 0.00930067,\n",
       "        0.00930067],\n",
       "       [0.19574921, 0.17744546, 0.02528158, 0.05548308, 0.14315311,\n",
       "        1.        , 0.00347096, 0.00347096, 0.00347096, 0.00347096,\n",
       "        0.00347096],\n",
       "       [0.19574921, 0.17744546, 0.02528158, 0.05548308, 0.14315311,\n",
       "        1.        , 0.00930067, 0.00930067, 0.00930067, 0.00930067,\n",
       "        0.00930067],\n",
       "       [0.19574921, 0.17744546, 0.02528158, 0.05548308, 0.14315311,\n",
       "        1.        , 0.00930067, 0.00930067, 0.00930067, 0.00930067,\n",
       "        0.00930067],\n",
       "       [0.19574921, 0.17744546, 0.02528158, 0.05548308, 0.14315311,\n",
       "        1.        , 0.00930067, 0.00930067, 0.00930067, 0.00930067,\n",
       "        0.00930067],\n",
       "       [0.19574921, 0.17744546, 0.02528158, 0.05548308, 0.14315311,\n",
       "        1.        , 0.00930067, 0.00930067, 0.00930067, 0.00930067,\n",
       "        0.00930067]])"
      ]
     },
     "execution_count": 53,
     "metadata": {},
     "output_type": "execute_result"
    }
   ],
   "source": [
    "group_svd"
   ]
  },
  {
   "cell_type": "code",
   "execution_count": 54,
   "metadata": {},
   "outputs": [],
   "source": [
    "#looking up the points that we took out earlier and seeing how they compare to 1.0, their actual value\n",
    "prediction = list([group_svd[2][1],\n",
    "    group_svd[19][0],\n",
    "    group_svd[22][0],\n",
    "    group_svd[26][1],\n",
    "    group_svd[26][2],\n",
    "    group_svd[53][2],\n",
    "    group_svd[49][1],\n",
    "    group_svd[49][0],\n",
    "    group_svd[48][2],\n",
    "    group_svd[48][3]])"
   ]
  },
  {
   "cell_type": "code",
   "execution_count": 55,
   "metadata": {},
   "outputs": [],
   "source": [
    "actual = list([1,1,1,1,1,1,1,1,1,1])"
   ]
  },
  {
   "cell_type": "code",
   "execution_count": 56,
   "metadata": {
    "scrolled": true
   },
   "outputs": [
    {
     "name": "stdout",
     "output_type": "stream",
     "text": [
      "0.7712586118281175\n"
     ]
    }
   ],
   "source": [
    "from sklearn import metrics\n",
    "rmse = (metrics.mean_squared_error(actual,prediction))\n",
    "print(rmse)"
   ]
  },
  {
   "cell_type": "markdown",
   "metadata": {},
   "source": [
    "In each of the rows, the max number is 1, and then the next highest number is usually around 0.19, so a rmse of 0.77 is exceptional and shows the accuracy of the rec system."
   ]
  },
  {
   "cell_type": "markdown",
   "metadata": {},
   "source": [
    "# Rec Function"
   ]
  },
  {
   "cell_type": "code",
   "execution_count": 57,
   "metadata": {
    "scrolled": false
   },
   "outputs": [],
   "source": [
    "col = [\"user_id\",\"rec_group_id\", \"rec_group_name\"]\n",
    "rows = []\n",
    "def recommend(follower_list, num_results=3):\n",
    "    for follower_id in follower_list:\n",
    "        \n",
    "        # get the row index of follower\n",
    "        follower_indx = np.where(follower_id_list == follower_id)[0][0]\n",
    "        \n",
    "        # sort all vales for follower row in descending order\n",
    "        indx_sort = group_svd[follower_indx, :].argsort()[::-1]\n",
    "        \n",
    "        # create mask and get the index of only groups never followed\n",
    "        never_follow = group_mtx[follower_indx, :][indx_sort] == 0\n",
    "    \n",
    "        rec_indx = indx_sort[never_follow]\n",
    "        rec_ids = group_id_list[rec_indx]\n",
    "        rec_name = [item_dict[x] for x in rec_ids]\n",
    "        rows.append([follower_id,rec_ids[:num_results],rec_name[:num_results]])"
   ]
  },
  {
   "cell_type": "code",
   "execution_count": 58,
   "metadata": {
    "scrolled": false
   },
   "outputs": [],
   "source": [
    "#recommend function takes in a list of users, and outputs a dataframe with the users and their recommendations\n",
    "#recommend(['09d32136-ed59-49fd-b553-5c1448aa92fd','b6d10dc9-189f-496d-9956-af760c43278b','8f138dce-bc62-4c97-ad8c-d008662810f6','db8d639f-7c6a-432e-8e43-07ea98b41607','240238a0-ce99-4ea7-ac77-eff09fb5eff2'])\n",
    "recommend(follower_id_list)"
   ]
  },
  {
   "cell_type": "code",
   "execution_count": 59,
   "metadata": {
    "scrolled": false
   },
   "outputs": [],
   "source": [
    "reco_df = pd.DataFrame(rows, columns=col)"
   ]
  },
  {
   "cell_type": "code",
   "execution_count": 63,
   "metadata": {
    "scrolled": true
   },
   "outputs": [
    {
     "data": {
      "text/html": [
       "<div>\n",
       "<style scoped>\n",
       "    .dataframe tbody tr th:only-of-type {\n",
       "        vertical-align: middle;\n",
       "    }\n",
       "\n",
       "    .dataframe tbody tr th {\n",
       "        vertical-align: top;\n",
       "    }\n",
       "\n",
       "    .dataframe thead th {\n",
       "        text-align: right;\n",
       "    }\n",
       "</style>\n",
       "<table border=\"1\" class=\"dataframe\">\n",
       "  <thead>\n",
       "    <tr style=\"text-align: right;\">\n",
       "      <th></th>\n",
       "      <th>user_id</th>\n",
       "      <th>rec_group_id</th>\n",
       "      <th>rec_group_name</th>\n",
       "    </tr>\n",
       "  </thead>\n",
       "  <tbody>\n",
       "    <tr>\n",
       "      <td>0</td>\n",
       "      <td>09d32136-ed59-49fd-b553-5c1448aa92fd</td>\n",
       "      <td>[1, 2, 15]</td>\n",
       "      <td>[BeitarJerusalem, BeitarFans, Israeli Singers]</td>\n",
       "    </tr>\n",
       "    <tr>\n",
       "      <td>1</td>\n",
       "      <td>1c1994c7-9bb0-477d-83dd-dc0d6f822c10</td>\n",
       "      <td>[1, 2, 15]</td>\n",
       "      <td>[BeitarJerusalem, BeitarFans, Israeli Singers]</td>\n",
       "    </tr>\n",
       "    <tr>\n",
       "      <td>2</td>\n",
       "      <td>240238a0-ce99-4ea7-ac77-eff09fb5eff2</td>\n",
       "      <td>[26, 2, 13]</td>\n",
       "      <td>[Soccer Players, BeitarFans, Emaze]</td>\n",
       "    </tr>\n",
       "    <tr>\n",
       "      <td>3</td>\n",
       "      <td>2415e720-8d4c-44c7-9cbf-cb1e76dcf4e8</td>\n",
       "      <td>[1, 2, 15]</td>\n",
       "      <td>[BeitarJerusalem, BeitarFans, Israeli Singers]</td>\n",
       "    </tr>\n",
       "    <tr>\n",
       "      <td>4</td>\n",
       "      <td>24c1d879-cb12-4582-87b1-982c3b9ef4e8</td>\n",
       "      <td>[1, 2, 15]</td>\n",
       "      <td>[BeitarJerusalem, BeitarFans, Israeli Singers]</td>\n",
       "    </tr>\n",
       "    <tr>\n",
       "      <td>5</td>\n",
       "      <td>2656ebcc-1919-4bbb-b34c-ffbdbfc2082b</td>\n",
       "      <td>[26, 15, 14]</td>\n",
       "      <td>[Soccer Players, Israeli Singers, Design and M...</td>\n",
       "    </tr>\n",
       "    <tr>\n",
       "      <td>6</td>\n",
       "      <td>278231bc-75dd-4fcf-a610-36ddc1df8455</td>\n",
       "      <td>[1, 2, 15]</td>\n",
       "      <td>[BeitarJerusalem, BeitarFans, Israeli Singers]</td>\n",
       "    </tr>\n",
       "    <tr>\n",
       "      <td>7</td>\n",
       "      <td>3199cab4-ee6d-4a7e-b629-7c4adf5f5fb4</td>\n",
       "      <td>[1, 2, 15]</td>\n",
       "      <td>[BeitarJerusalem, BeitarFans, Israeli Singers]</td>\n",
       "    </tr>\n",
       "    <tr>\n",
       "      <td>8</td>\n",
       "      <td>371088ec-ccd9-4c1e-acb3-6c3b43c84627</td>\n",
       "      <td>[26, 15, 14]</td>\n",
       "      <td>[Soccer Players, Israeli Singers, Design and M...</td>\n",
       "    </tr>\n",
       "    <tr>\n",
       "      <td>9</td>\n",
       "      <td>38dee454-fd00-4a2f-937d-e10c74b27b42</td>\n",
       "      <td>[1, 26, 2]</td>\n",
       "      <td>[BeitarJerusalem, Soccer Players, BeitarFans]</td>\n",
       "    </tr>\n",
       "  </tbody>\n",
       "</table>\n",
       "</div>"
      ],
      "text/plain": [
       "                                user_id  rec_group_id  \\\n",
       "0  09d32136-ed59-49fd-b553-5c1448aa92fd    [1, 2, 15]   \n",
       "1  1c1994c7-9bb0-477d-83dd-dc0d6f822c10    [1, 2, 15]   \n",
       "2  240238a0-ce99-4ea7-ac77-eff09fb5eff2   [26, 2, 13]   \n",
       "3  2415e720-8d4c-44c7-9cbf-cb1e76dcf4e8    [1, 2, 15]   \n",
       "4  24c1d879-cb12-4582-87b1-982c3b9ef4e8    [1, 2, 15]   \n",
       "5  2656ebcc-1919-4bbb-b34c-ffbdbfc2082b  [26, 15, 14]   \n",
       "6  278231bc-75dd-4fcf-a610-36ddc1df8455    [1, 2, 15]   \n",
       "7  3199cab4-ee6d-4a7e-b629-7c4adf5f5fb4    [1, 2, 15]   \n",
       "8  371088ec-ccd9-4c1e-acb3-6c3b43c84627  [26, 15, 14]   \n",
       "9  38dee454-fd00-4a2f-937d-e10c74b27b42    [1, 26, 2]   \n",
       "\n",
       "                                      rec_group_name  \n",
       "0     [BeitarJerusalem, BeitarFans, Israeli Singers]  \n",
       "1     [BeitarJerusalem, BeitarFans, Israeli Singers]  \n",
       "2                [Soccer Players, BeitarFans, Emaze]  \n",
       "3     [BeitarJerusalem, BeitarFans, Israeli Singers]  \n",
       "4     [BeitarJerusalem, BeitarFans, Israeli Singers]  \n",
       "5  [Soccer Players, Israeli Singers, Design and M...  \n",
       "6     [BeitarJerusalem, BeitarFans, Israeli Singers]  \n",
       "7     [BeitarJerusalem, BeitarFans, Israeli Singers]  \n",
       "8  [Soccer Players, Israeli Singers, Design and M...  \n",
       "9      [BeitarJerusalem, Soccer Players, BeitarFans]  "
      ]
     },
     "execution_count": 63,
     "metadata": {},
     "output_type": "execute_result"
    }
   ],
   "source": [
    "reco_df.head(10)"
   ]
  },
  {
   "cell_type": "markdown",
   "metadata": {},
   "source": [
    "#### Uncomment line below to export file into csv"
   ]
  },
  {
   "cell_type": "code",
   "execution_count": 61,
   "metadata": {
    "scrolled": false
   },
   "outputs": [],
   "source": [
    "#reco_df.to_csv('recommend_groups.csv')"
   ]
  }
 ],
 "metadata": {
  "kernelspec": {
   "display_name": "Python 3",
   "language": "python",
   "name": "python3"
  },
  "language_info": {
   "codemirror_mode": {
    "name": "ipython",
    "version": 3
   },
   "file_extension": ".py",
   "mimetype": "text/x-python",
   "name": "python",
   "nbconvert_exporter": "python",
   "pygments_lexer": "ipython3",
   "version": "3.7.4"
  }
 },
 "nbformat": 4,
 "nbformat_minor": 2
}
