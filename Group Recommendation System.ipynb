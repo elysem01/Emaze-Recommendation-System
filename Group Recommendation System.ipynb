{
 "cells": [
  {
   "cell_type": "markdown",
   "metadata": {},
   "source": [
    "# Importing Data"
   ]
  },
  {
   "cell_type": "code",
   "execution_count": 1,
   "metadata": {},
   "outputs": [],
   "source": [
    "import numpy as np\n",
    "import pandas as pd\n",
    "import seaborn as sns\n",
    "\n",
    "from datetime import datetime\n",
    "import matplotlib.pyplot as plt\n",
    "%matplotlib inline"
   ]
  },
  {
   "cell_type": "code",
   "execution_count": 2,
   "metadata": {},
   "outputs": [
    {
     "data": {
      "text/html": [
       "<div>\n",
       "<style scoped>\n",
       "    .dataframe tbody tr th:only-of-type {\n",
       "        vertical-align: middle;\n",
       "    }\n",
       "\n",
       "    .dataframe tbody tr th {\n",
       "        vertical-align: top;\n",
       "    }\n",
       "\n",
       "    .dataframe thead th {\n",
       "        text-align: right;\n",
       "    }\n",
       "</style>\n",
       "<table border=\"1\" class=\"dataframe\">\n",
       "  <thead>\n",
       "    <tr style=\"text-align: right;\">\n",
       "      <th></th>\n",
       "      <th>GroupID</th>\n",
       "      <th>GroupName</th>\n",
       "      <th>Admin</th>\n",
       "      <th>Privecy</th>\n",
       "      <th>Visibility</th>\n",
       "      <th>priority</th>\n",
       "      <th>varified</th>\n",
       "      <th>AssociatedGroupsJson</th>\n",
       "      <th>ModeratorsJson</th>\n",
       "      <th>DateCreated</th>\n",
       "      <th>DateUpdated</th>\n",
       "      <th>AboutGroup</th>\n",
       "      <th>EmazeSite</th>\n",
       "      <th>GroupCoverUrl</th>\n",
       "      <th>GroupPhotoUrl</th>\n",
       "      <th>SiteThumnail</th>\n",
       "    </tr>\n",
       "  </thead>\n",
       "  <tbody>\n",
       "    <tr>\n",
       "      <td>0</td>\n",
       "      <td>1</td>\n",
       "      <td>BeitarJerusalem</td>\n",
       "      <td>d1f13501-60bf-4dd8-b6e8-c11d2f8eab8c</td>\n",
       "      <td>1</td>\n",
       "      <td>0</td>\n",
       "      <td>0</td>\n",
       "      <td>0</td>\n",
       "      <td>NaN</td>\n",
       "      <td>NaN</td>\n",
       "      <td>2020-04-05 10:27:38.0531290</td>\n",
       "      <td>2020-04-05 10:27:38.0531290</td>\n",
       "      <td>Group of Beitar players</td>\n",
       "      <td>https://emaze.me/diogoverdasca</td>\n",
       "      <td>//userscontent2.emaze.com/userinfo//cover/2dc9...</td>\n",
       "      <td>//userscontent2.emaze.com/userinfo//image/7c4d...</td>\n",
       "      <td>//storage.googleapis.com/userscontent2.emaze.c...</td>\n",
       "    </tr>\n",
       "    <tr>\n",
       "      <td>1</td>\n",
       "      <td>2</td>\n",
       "      <td>BeitarFans</td>\n",
       "      <td>d1f13501-60bf-4dd8-b6e8-c11d2f8eab8c</td>\n",
       "      <td>1</td>\n",
       "      <td>0</td>\n",
       "      <td>0</td>\n",
       "      <td>0</td>\n",
       "      <td>NaN</td>\n",
       "      <td>NaN</td>\n",
       "      <td>2020-04-05 10:27:38.0531290</td>\n",
       "      <td>2020-04-05 10:27:38.0531290</td>\n",
       "      <td>Group for fans of Beitar Jerusalem f.c.</td>\n",
       "      <td>NaN</td>\n",
       "      <td>//userscontent2.emaze.com/userinfo//cover/b397...</td>\n",
       "      <td>//userscontent2.emaze.com/userinfo//image/1e5a...</td>\n",
       "      <td>NaN</td>\n",
       "    </tr>\n",
       "    <tr>\n",
       "      <td>2</td>\n",
       "      <td>3</td>\n",
       "      <td>newgroupwithdate2</td>\n",
       "      <td>NaN</td>\n",
       "      <td>0</td>\n",
       "      <td>0</td>\n",
       "      <td>0</td>\n",
       "      <td>0</td>\n",
       "      <td>NaN</td>\n",
       "      <td>NaN</td>\n",
       "      <td>2020-04-05 12:00:36.2022096</td>\n",
       "      <td>2020-04-05 12:00:36.2022096</td>\n",
       "      <td>NaN</td>\n",
       "      <td>NaN</td>\n",
       "      <td>NaN</td>\n",
       "      <td>NaN</td>\n",
       "      <td>NaN</td>\n",
       "    </tr>\n",
       "    <tr>\n",
       "      <td>3</td>\n",
       "      <td>4</td>\n",
       "      <td>another-group</td>\n",
       "      <td>NaN</td>\n",
       "      <td>0</td>\n",
       "      <td>0</td>\n",
       "      <td>0</td>\n",
       "      <td>0</td>\n",
       "      <td>NaN</td>\n",
       "      <td>NaN</td>\n",
       "      <td>2020-04-20 08:57:01.8046276</td>\n",
       "      <td>2020-04-20 08:57:01.8046276</td>\n",
       "      <td>NaN</td>\n",
       "      <td>NaN</td>\n",
       "      <td>NaN</td>\n",
       "      <td>NaN</td>\n",
       "      <td>NaN</td>\n",
       "    </tr>\n",
       "    <tr>\n",
       "      <td>4</td>\n",
       "      <td>5</td>\n",
       "      <td>\"\"</td>\n",
       "      <td>NaN</td>\n",
       "      <td>0</td>\n",
       "      <td>0</td>\n",
       "      <td>0</td>\n",
       "      <td>0</td>\n",
       "      <td>NaN</td>\n",
       "      <td>NaN</td>\n",
       "      <td>2020-04-20 10:44:39.2241056</td>\n",
       "      <td>2020-04-20 10:44:39.2241056</td>\n",
       "      <td>NaN</td>\n",
       "      <td>NaN</td>\n",
       "      <td>NaN</td>\n",
       "      <td>NaN</td>\n",
       "      <td>NaN</td>\n",
       "    </tr>\n",
       "  </tbody>\n",
       "</table>\n",
       "</div>"
      ],
      "text/plain": [
       "   GroupID          GroupName                                 Admin  Privecy  \\\n",
       "0        1    BeitarJerusalem  d1f13501-60bf-4dd8-b6e8-c11d2f8eab8c        1   \n",
       "1        2         BeitarFans  d1f13501-60bf-4dd8-b6e8-c11d2f8eab8c        1   \n",
       "2        3  newgroupwithdate2                                   NaN        0   \n",
       "3        4      another-group                                   NaN        0   \n",
       "4        5                 \"\"                                   NaN        0   \n",
       "\n",
       "   Visibility  priority  varified  AssociatedGroupsJson  ModeratorsJson  \\\n",
       "0           0         0         0                   NaN             NaN   \n",
       "1           0         0         0                   NaN             NaN   \n",
       "2           0         0         0                   NaN             NaN   \n",
       "3           0         0         0                   NaN             NaN   \n",
       "4           0         0         0                   NaN             NaN   \n",
       "\n",
       "                   DateCreated                  DateUpdated  \\\n",
       "0  2020-04-05 10:27:38.0531290  2020-04-05 10:27:38.0531290   \n",
       "1  2020-04-05 10:27:38.0531290  2020-04-05 10:27:38.0531290   \n",
       "2  2020-04-05 12:00:36.2022096  2020-04-05 12:00:36.2022096   \n",
       "3  2020-04-20 08:57:01.8046276  2020-04-20 08:57:01.8046276   \n",
       "4  2020-04-20 10:44:39.2241056  2020-04-20 10:44:39.2241056   \n",
       "\n",
       "                                AboutGroup                       EmazeSite  \\\n",
       "0                  Group of Beitar players  https://emaze.me/diogoverdasca   \n",
       "1  Group for fans of Beitar Jerusalem f.c.                             NaN   \n",
       "2                                      NaN                             NaN   \n",
       "3                                      NaN                             NaN   \n",
       "4                                      NaN                             NaN   \n",
       "\n",
       "                                       GroupCoverUrl  \\\n",
       "0  //userscontent2.emaze.com/userinfo//cover/2dc9...   \n",
       "1  //userscontent2.emaze.com/userinfo//cover/b397...   \n",
       "2                                                NaN   \n",
       "3                                                NaN   \n",
       "4                                                NaN   \n",
       "\n",
       "                                       GroupPhotoUrl  \\\n",
       "0  //userscontent2.emaze.com/userinfo//image/7c4d...   \n",
       "1  //userscontent2.emaze.com/userinfo//image/1e5a...   \n",
       "2                                                NaN   \n",
       "3                                                NaN   \n",
       "4                                                NaN   \n",
       "\n",
       "                                        SiteThumnail  \n",
       "0  //storage.googleapis.com/userscontent2.emaze.c...  \n",
       "1                                                NaN  \n",
       "2                                                NaN  \n",
       "3                                                NaN  \n",
       "4                                                NaN  "
      ]
     },
     "execution_count": 2,
     "metadata": {},
     "output_type": "execute_result"
    }
   ],
   "source": [
    "groups_raw = pd.read_csv(\"data/EmazeMeGroups.csv\")\n",
    "groups_raw.head()"
   ]
  },
  {
   "cell_type": "code",
   "execution_count": 3,
   "metadata": {
    "scrolled": true
   },
   "outputs": [
    {
     "data": {
      "text/html": [
       "<div>\n",
       "<style scoped>\n",
       "    .dataframe tbody tr th:only-of-type {\n",
       "        vertical-align: middle;\n",
       "    }\n",
       "\n",
       "    .dataframe tbody tr th {\n",
       "        vertical-align: top;\n",
       "    }\n",
       "\n",
       "    .dataframe thead th {\n",
       "        text-align: right;\n",
       "    }\n",
       "</style>\n",
       "<table border=\"1\" class=\"dataframe\">\n",
       "  <thead>\n",
       "    <tr style=\"text-align: right;\">\n",
       "      <th></th>\n",
       "      <th>FollowId</th>\n",
       "      <th>FollowerId</th>\n",
       "      <th>EmazeMeGroupId</th>\n",
       "      <th>FollowingSince</th>\n",
       "    </tr>\n",
       "  </thead>\n",
       "  <tbody>\n",
       "    <tr>\n",
       "      <td>0</td>\n",
       "      <td>3</td>\n",
       "      <td>240238a0-ce99-4ea7-ac77-eff09fb5eff2</td>\n",
       "      <td>1</td>\n",
       "      <td>0001-01-03 00:00:00.000</td>\n",
       "    </tr>\n",
       "    <tr>\n",
       "      <td>1</td>\n",
       "      <td>4</td>\n",
       "      <td>240238a0-ce99-4ea7-ac77-eff09fb5eff2</td>\n",
       "      <td>2</td>\n",
       "      <td>0001-01-03 00:00:00.000</td>\n",
       "    </tr>\n",
       "    <tr>\n",
       "      <td>2</td>\n",
       "      <td>5</td>\n",
       "      <td>e9477dec-c960-4f11-a563-9781cf8b1c15</td>\n",
       "      <td>1</td>\n",
       "      <td>0001-01-03 00:00:00.000</td>\n",
       "    </tr>\n",
       "    <tr>\n",
       "      <td>3</td>\n",
       "      <td>6</td>\n",
       "      <td>e9477dec-c960-4f11-a563-9781cf8b1c15</td>\n",
       "      <td>2</td>\n",
       "      <td>0001-01-03 00:00:00.000</td>\n",
       "    </tr>\n",
       "    <tr>\n",
       "      <td>4</td>\n",
       "      <td>7</td>\n",
       "      <td>93aff917-ec28-4201-b1d2-788e275671b2</td>\n",
       "      <td>1</td>\n",
       "      <td>0001-01-03 00:00:00.000</td>\n",
       "    </tr>\n",
       "  </tbody>\n",
       "</table>\n",
       "</div>"
      ],
      "text/plain": [
       "   FollowId                            FollowerId  EmazeMeGroupId  \\\n",
       "0         3  240238a0-ce99-4ea7-ac77-eff09fb5eff2               1   \n",
       "1         4  240238a0-ce99-4ea7-ac77-eff09fb5eff2               2   \n",
       "2         5  e9477dec-c960-4f11-a563-9781cf8b1c15               1   \n",
       "3         6  e9477dec-c960-4f11-a563-9781cf8b1c15               2   \n",
       "4         7  93aff917-ec28-4201-b1d2-788e275671b2               1   \n",
       "\n",
       "            FollowingSince  \n",
       "0  0001-01-03 00:00:00.000  \n",
       "1  0001-01-03 00:00:00.000  \n",
       "2  0001-01-03 00:00:00.000  \n",
       "3  0001-01-03 00:00:00.000  \n",
       "4  0001-01-03 00:00:00.000  "
      ]
     },
     "execution_count": 3,
     "metadata": {},
     "output_type": "execute_result"
    }
   ],
   "source": [
    "followers_raw = pd.read_csv(\"data/EmazeMeGroupFollowers.csv\")\n",
    "followers_raw.head()"
   ]
  },
  {
   "cell_type": "code",
   "execution_count": 4,
   "metadata": {},
   "outputs": [
    {
     "data": {
      "text/html": [
       "<div>\n",
       "<style scoped>\n",
       "    .dataframe tbody tr th:only-of-type {\n",
       "        vertical-align: middle;\n",
       "    }\n",
       "\n",
       "    .dataframe tbody tr th {\n",
       "        vertical-align: top;\n",
       "    }\n",
       "\n",
       "    .dataframe thead th {\n",
       "        text-align: right;\n",
       "    }\n",
       "</style>\n",
       "<table border=\"1\" class=\"dataframe\">\n",
       "  <thead>\n",
       "    <tr style=\"text-align: right;\">\n",
       "      <th></th>\n",
       "      <th>FollowId</th>\n",
       "      <th>MemberId</th>\n",
       "      <th>EmazeMeGroupId</th>\n",
       "      <th>MemberSince</th>\n",
       "    </tr>\n",
       "  </thead>\n",
       "  <tbody>\n",
       "    <tr>\n",
       "      <td>0</td>\n",
       "      <td>2</td>\n",
       "      <td>240238a0-ce99-4ea7-ac77-eff09fb5eff2</td>\n",
       "      <td>2</td>\n",
       "      <td>0001-01-03 00:00:00.000</td>\n",
       "    </tr>\n",
       "    <tr>\n",
       "      <td>1</td>\n",
       "      <td>3</td>\n",
       "      <td>e9477dec-c960-4f11-a563-9781cf8b1c15</td>\n",
       "      <td>2</td>\n",
       "      <td>0001-01-03 00:00:00.000</td>\n",
       "    </tr>\n",
       "    <tr>\n",
       "      <td>2</td>\n",
       "      <td>4</td>\n",
       "      <td>93aff917-ec28-4201-b1d2-788e275671b2</td>\n",
       "      <td>2</td>\n",
       "      <td>0001-01-03 00:00:00.000</td>\n",
       "    </tr>\n",
       "    <tr>\n",
       "      <td>3</td>\n",
       "      <td>5</td>\n",
       "      <td>41274e54-612f-4b03-9461-63ae9c74ab07</td>\n",
       "      <td>2</td>\n",
       "      <td>0001-01-03 00:00:00.000</td>\n",
       "    </tr>\n",
       "    <tr>\n",
       "      <td>4</td>\n",
       "      <td>6</td>\n",
       "      <td>371088ec-ccd9-4c1e-acb3-6c3b43c84627</td>\n",
       "      <td>2</td>\n",
       "      <td>0001-01-03 00:00:00.000</td>\n",
       "    </tr>\n",
       "  </tbody>\n",
       "</table>\n",
       "</div>"
      ],
      "text/plain": [
       "   FollowId                              MemberId  EmazeMeGroupId  \\\n",
       "0         2  240238a0-ce99-4ea7-ac77-eff09fb5eff2               2   \n",
       "1         3  e9477dec-c960-4f11-a563-9781cf8b1c15               2   \n",
       "2         4  93aff917-ec28-4201-b1d2-788e275671b2               2   \n",
       "3         5  41274e54-612f-4b03-9461-63ae9c74ab07               2   \n",
       "4         6  371088ec-ccd9-4c1e-acb3-6c3b43c84627               2   \n",
       "\n",
       "               MemberSince  \n",
       "0  0001-01-03 00:00:00.000  \n",
       "1  0001-01-03 00:00:00.000  \n",
       "2  0001-01-03 00:00:00.000  \n",
       "3  0001-01-03 00:00:00.000  \n",
       "4  0001-01-03 00:00:00.000  "
      ]
     },
     "execution_count": 4,
     "metadata": {},
     "output_type": "execute_result"
    }
   ],
   "source": [
    "members_raw = pd.read_csv(\"data/EmazeMeGroupMembers.csv\")\n",
    "members_raw.head()"
   ]
  },
  {
   "cell_type": "code",
   "execution_count": 5,
   "metadata": {},
   "outputs": [
    {
     "data": {
      "text/html": [
       "<div>\n",
       "<style scoped>\n",
       "    .dataframe tbody tr th:only-of-type {\n",
       "        vertical-align: middle;\n",
       "    }\n",
       "\n",
       "    .dataframe tbody tr th {\n",
       "        vertical-align: top;\n",
       "    }\n",
       "\n",
       "    .dataframe thead th {\n",
       "        text-align: right;\n",
       "    }\n",
       "</style>\n",
       "<table border=\"1\" class=\"dataframe\">\n",
       "  <thead>\n",
       "    <tr style=\"text-align: right;\">\n",
       "      <th></th>\n",
       "      <th>FollowId</th>\n",
       "      <th>MemberId</th>\n",
       "      <th>EmazeMeGroupId</th>\n",
       "    </tr>\n",
       "  </thead>\n",
       "  <tbody>\n",
       "    <tr>\n",
       "      <td>0</td>\n",
       "      <td>60</td>\n",
       "      <td>57388fef-9814-4163-8a8a-b676bfb85801</td>\n",
       "      <td>2</td>\n",
       "    </tr>\n",
       "    <tr>\n",
       "      <td>1</td>\n",
       "      <td>64</td>\n",
       "      <td>311ff7ca-d05c-4ac3-820a-9c0fc4228d59</td>\n",
       "      <td>2</td>\n",
       "    </tr>\n",
       "    <tr>\n",
       "      <td>2</td>\n",
       "      <td>65</td>\n",
       "      <td>c5913a2c-521d-43aa-b031-bb869cea175d</td>\n",
       "      <td>2</td>\n",
       "    </tr>\n",
       "    <tr>\n",
       "      <td>3</td>\n",
       "      <td>66</td>\n",
       "      <td>3199cab4-ee6d-4a7e-b629-7c4adf5f5fb4</td>\n",
       "      <td>2</td>\n",
       "    </tr>\n",
       "    <tr>\n",
       "      <td>4</td>\n",
       "      <td>67</td>\n",
       "      <td>a0086ebc-c7da-414b-b56f-1db40c1bcdd0</td>\n",
       "      <td>2</td>\n",
       "    </tr>\n",
       "  </tbody>\n",
       "</table>\n",
       "</div>"
      ],
      "text/plain": [
       "   FollowId                              MemberId  EmazeMeGroupId\n",
       "0        60  57388fef-9814-4163-8a8a-b676bfb85801               2\n",
       "1        64  311ff7ca-d05c-4ac3-820a-9c0fc4228d59               2\n",
       "2        65  c5913a2c-521d-43aa-b031-bb869cea175d               2\n",
       "3        66  3199cab4-ee6d-4a7e-b629-7c4adf5f5fb4               2\n",
       "4        67  a0086ebc-c7da-414b-b56f-1db40c1bcdd0               2"
      ]
     },
     "execution_count": 5,
     "metadata": {},
     "output_type": "execute_result"
    }
   ],
   "source": [
    "pending_raw = pd.read_csv('data/EmazeMeGroupPendingMembers.csv')\n",
    "pending_raw.head()"
   ]
  },
  {
   "cell_type": "code",
   "execution_count": 6,
   "metadata": {},
   "outputs": [
    {
     "data": {
      "text/html": [
       "<div>\n",
       "<style scoped>\n",
       "    .dataframe tbody tr th:only-of-type {\n",
       "        vertical-align: middle;\n",
       "    }\n",
       "\n",
       "    .dataframe tbody tr th {\n",
       "        vertical-align: top;\n",
       "    }\n",
       "\n",
       "    .dataframe thead th {\n",
       "        text-align: right;\n",
       "    }\n",
       "</style>\n",
       "<table border=\"1\" class=\"dataframe\">\n",
       "  <thead>\n",
       "    <tr style=\"text-align: right;\">\n",
       "      <th></th>\n",
       "      <th>CampaignID</th>\n",
       "      <th>GroupID</th>\n",
       "      <th>customThemeID</th>\n",
       "      <th>CampaignType</th>\n",
       "    </tr>\n",
       "  </thead>\n",
       "  <tbody>\n",
       "    <tr>\n",
       "      <td>0</td>\n",
       "      <td>1</td>\n",
       "      <td>1</td>\n",
       "      <td>48919</td>\n",
       "      <td>0</td>\n",
       "    </tr>\n",
       "    <tr>\n",
       "      <td>1</td>\n",
       "      <td>2</td>\n",
       "      <td>1</td>\n",
       "      <td>48922</td>\n",
       "      <td>0</td>\n",
       "    </tr>\n",
       "    <tr>\n",
       "      <td>2</td>\n",
       "      <td>3</td>\n",
       "      <td>1</td>\n",
       "      <td>48921</td>\n",
       "      <td>0</td>\n",
       "    </tr>\n",
       "    <tr>\n",
       "      <td>3</td>\n",
       "      <td>4</td>\n",
       "      <td>1</td>\n",
       "      <td>48920</td>\n",
       "      <td>0</td>\n",
       "    </tr>\n",
       "    <tr>\n",
       "      <td>4</td>\n",
       "      <td>5</td>\n",
       "      <td>1</td>\n",
       "      <td>48931</td>\n",
       "      <td>0</td>\n",
       "    </tr>\n",
       "  </tbody>\n",
       "</table>\n",
       "</div>"
      ],
      "text/plain": [
       "   CampaignID  GroupID  customThemeID  CampaignType\n",
       "0           1        1          48919             0\n",
       "1           2        1          48922             0\n",
       "2           3        1          48921             0\n",
       "3           4        1          48920             0\n",
       "4           5        1          48931             0"
      ]
     },
     "execution_count": 6,
     "metadata": {},
     "output_type": "execute_result"
    }
   ],
   "source": [
    "templates_raw = pd.read_csv('data/EmazeMeGroupFromTemplate.csv')\n",
    "templates_raw.head()"
   ]
  },
  {
   "cell_type": "code",
   "execution_count": 7,
   "metadata": {},
   "outputs": [
    {
     "name": "stderr",
     "output_type": "stream",
     "text": [
      "C:\\Users\\kwong\\Anaconda3\\lib\\site-packages\\IPython\\core\\interactiveshell.py:3058: DtypeWarning: Columns (18,26,34) have mixed types. Specify dtype option on import or set low_memory=False.\n",
      "  interactivity=interactivity, compiler=compiler, result=result)\n"
     ]
    },
    {
     "data": {
      "text/html": [
       "<div>\n",
       "<style scoped>\n",
       "    .dataframe tbody tr th:only-of-type {\n",
       "        vertical-align: middle;\n",
       "    }\n",
       "\n",
       "    .dataframe tbody tr th {\n",
       "        vertical-align: top;\n",
       "    }\n",
       "\n",
       "    .dataframe thead th {\n",
       "        text-align: right;\n",
       "    }\n",
       "</style>\n",
       "<table border=\"1\" class=\"dataframe\">\n",
       "  <thead>\n",
       "    <tr style=\"text-align: right;\">\n",
       "      <th></th>\n",
       "      <th>InfoId</th>\n",
       "      <th>UserId</th>\n",
       "      <th>Email</th>\n",
       "      <th>FirstName</th>\n",
       "      <th>LastName</th>\n",
       "      <th>Telephone</th>\n",
       "      <th>CompanyName</th>\n",
       "      <th>Address</th>\n",
       "      <th>CountryName</th>\n",
       "      <th>IpAddress</th>\n",
       "      <th>...</th>\n",
       "      <th>PricingSource</th>\n",
       "      <th>RecurringCycle</th>\n",
       "      <th>TrialPeriod</th>\n",
       "      <th>PublicEmail</th>\n",
       "      <th>WebSite</th>\n",
       "      <th>UserFotoUrl</th>\n",
       "      <th>UserCoverUrl</th>\n",
       "      <th>Description</th>\n",
       "      <th>Industry</th>\n",
       "      <th>PaymentStatus</th>\n",
       "    </tr>\n",
       "  </thead>\n",
       "  <tbody>\n",
       "    <tr>\n",
       "      <td>0</td>\n",
       "      <td>3207030</td>\n",
       "      <td>45f12908-b14d-48ac-9a32-74fd3ddce869</td>\n",
       "      <td>tanmayi.k@gmail.com</td>\n",
       "      <td>tanmayi.k</td>\n",
       "      <td>NaN</td>\n",
       "      <td>NaN</td>\n",
       "      <td>NaN</td>\n",
       "      <td>NaN</td>\n",
       "      <td>NaN</td>\n",
       "      <td>98.206.236.40</td>\n",
       "      <td>...</td>\n",
       "      <td>NaN</td>\n",
       "      <td>NaN</td>\n",
       "      <td>NaN</td>\n",
       "      <td>NaN</td>\n",
       "      <td>NaN</td>\n",
       "      <td>NaN</td>\n",
       "      <td>NaN</td>\n",
       "      <td>NaN</td>\n",
       "      <td>High School Student</td>\n",
       "      <td>NaN</td>\n",
       "    </tr>\n",
       "    <tr>\n",
       "      <td>1</td>\n",
       "      <td>3207031</td>\n",
       "      <td>d7538250-4f20-4fe6-afbb-530a3572c3fb</td>\n",
       "      <td>victoriaeesmall@gmail.com</td>\n",
       "      <td>victoriaeesmall</td>\n",
       "      <td>NaN</td>\n",
       "      <td>NaN</td>\n",
       "      <td>NaN</td>\n",
       "      <td>NaN</td>\n",
       "      <td>NaN</td>\n",
       "      <td>99.234.116.252</td>\n",
       "      <td>...</td>\n",
       "      <td>NaN</td>\n",
       "      <td>NaN</td>\n",
       "      <td>NaN</td>\n",
       "      <td>NaN</td>\n",
       "      <td>NaN</td>\n",
       "      <td>NaN</td>\n",
       "      <td>NaN</td>\n",
       "      <td>NaN</td>\n",
       "      <td>High School Student</td>\n",
       "      <td>NaN</td>\n",
       "    </tr>\n",
       "    <tr>\n",
       "      <td>2</td>\n",
       "      <td>3207032</td>\n",
       "      <td>d9b69a62-0be8-4715-a153-472c318434c5</td>\n",
       "      <td>335983953@educ.dpcdsb.org</td>\n",
       "      <td>335983953</td>\n",
       "      <td>NaN</td>\n",
       "      <td>NaN</td>\n",
       "      <td>NaN</td>\n",
       "      <td>NaN</td>\n",
       "      <td>NaN</td>\n",
       "      <td>174.118.111.101</td>\n",
       "      <td>...</td>\n",
       "      <td>NaN</td>\n",
       "      <td>NaN</td>\n",
       "      <td>NaN</td>\n",
       "      <td>NaN</td>\n",
       "      <td>NaN</td>\n",
       "      <td>NaN</td>\n",
       "      <td>NaN</td>\n",
       "      <td>NaN</td>\n",
       "      <td>Middle School Student</td>\n",
       "      <td>NaN</td>\n",
       "    </tr>\n",
       "    <tr>\n",
       "      <td>3</td>\n",
       "      <td>3207033</td>\n",
       "      <td>eb582c3a-4004-4f0b-98b6-71f16210e2dd</td>\n",
       "      <td>jashawnbarker@yahoo.com</td>\n",
       "      <td>jashawnbarker</td>\n",
       "      <td>NaN</td>\n",
       "      <td>NaN</td>\n",
       "      <td>NaN</td>\n",
       "      <td>NaN</td>\n",
       "      <td>NaN</td>\n",
       "      <td>72.48.202.1</td>\n",
       "      <td>...</td>\n",
       "      <td>NaN</td>\n",
       "      <td>NaN</td>\n",
       "      <td>NaN</td>\n",
       "      <td>NaN</td>\n",
       "      <td>NaN</td>\n",
       "      <td>NaN</td>\n",
       "      <td>NaN</td>\n",
       "      <td>NaN</td>\n",
       "      <td>University Professor</td>\n",
       "      <td>NaN</td>\n",
       "    </tr>\n",
       "    <tr>\n",
       "      <td>4</td>\n",
       "      <td>3207034</td>\n",
       "      <td>e4e04ad6-aaaf-4cfe-b233-2446831eacc5</td>\n",
       "      <td>brianortegabuenrostro@hotmail.com</td>\n",
       "      <td>brianortegabuenrostro</td>\n",
       "      <td>NaN</td>\n",
       "      <td>NaN</td>\n",
       "      <td>NaN</td>\n",
       "      <td>NaN</td>\n",
       "      <td>NaN</td>\n",
       "      <td>189.222.39.120</td>\n",
       "      <td>...</td>\n",
       "      <td>NaN</td>\n",
       "      <td>NaN</td>\n",
       "      <td>NaN</td>\n",
       "      <td>NaN</td>\n",
       "      <td>NaN</td>\n",
       "      <td>NaN</td>\n",
       "      <td>NaN</td>\n",
       "      <td>NaN</td>\n",
       "      <td>Estudiante Universitario</td>\n",
       "      <td>NaN</td>\n",
       "    </tr>\n",
       "  </tbody>\n",
       "</table>\n",
       "<p>5 rows × 35 columns</p>\n",
       "</div>"
      ],
      "text/plain": [
       "    InfoId                                UserId  \\\n",
       "0  3207030  45f12908-b14d-48ac-9a32-74fd3ddce869   \n",
       "1  3207031  d7538250-4f20-4fe6-afbb-530a3572c3fb   \n",
       "2  3207032  d9b69a62-0be8-4715-a153-472c318434c5   \n",
       "3  3207033  eb582c3a-4004-4f0b-98b6-71f16210e2dd   \n",
       "4  3207034  e4e04ad6-aaaf-4cfe-b233-2446831eacc5   \n",
       "\n",
       "                               Email              FirstName LastName  \\\n",
       "0                tanmayi.k@gmail.com              tanmayi.k      NaN   \n",
       "1          victoriaeesmall@gmail.com        victoriaeesmall      NaN   \n",
       "2          335983953@educ.dpcdsb.org              335983953      NaN   \n",
       "3            jashawnbarker@yahoo.com          jashawnbarker      NaN   \n",
       "4  brianortegabuenrostro@hotmail.com  brianortegabuenrostro      NaN   \n",
       "\n",
       "   Telephone  CompanyName Address  CountryName        IpAddress  ...  \\\n",
       "0        NaN          NaN     NaN          NaN    98.206.236.40  ...   \n",
       "1        NaN          NaN     NaN          NaN   99.234.116.252  ...   \n",
       "2        NaN          NaN     NaN          NaN  174.118.111.101  ...   \n",
       "3        NaN          NaN     NaN          NaN      72.48.202.1  ...   \n",
       "4        NaN          NaN     NaN          NaN   189.222.39.120  ...   \n",
       "\n",
       "  PricingSource RecurringCycle TrialPeriod PublicEmail WebSite  UserFotoUrl  \\\n",
       "0           NaN            NaN         NaN         NaN     NaN          NaN   \n",
       "1           NaN            NaN         NaN         NaN     NaN          NaN   \n",
       "2           NaN            NaN         NaN         NaN     NaN          NaN   \n",
       "3           NaN            NaN         NaN         NaN     NaN          NaN   \n",
       "4           NaN            NaN         NaN         NaN     NaN          NaN   \n",
       "\n",
       "  UserCoverUrl Description                  Industry PaymentStatus  \n",
       "0          NaN         NaN       High School Student           NaN  \n",
       "1          NaN         NaN       High School Student           NaN  \n",
       "2          NaN         NaN     Middle School Student           NaN  \n",
       "3          NaN         NaN      University Professor           NaN  \n",
       "4          NaN         NaN  Estudiante Universitario           NaN  \n",
       "\n",
       "[5 rows x 35 columns]"
      ]
     },
     "execution_count": 7,
     "metadata": {},
     "output_type": "execute_result"
    }
   ],
   "source": [
    "users_raw = pd.read_csv('data/Mini_InfoOfUsers.csv')\n",
    "users_raw.head()"
   ]
  },
  {
   "cell_type": "code",
   "execution_count": 8,
   "metadata": {},
   "outputs": [
    {
     "data": {
      "text/plain": [
       "Index(['InfoId', 'UserId', 'Email', 'FirstName', 'LastName', 'Telephone',\n",
       "       'CompanyName', 'Address', 'CountryName', 'IpAddress', 'CountryCode',\n",
       "       'AffiliateId', 'SubId', 'RegisterDate', 'LastLoginDate', 'Status',\n",
       "       'PremiumStartDate', 'PremiumEndDate', 'PaymentProcessor',\n",
       "       'PaymentReference', 'CampaignId', 'Alias', 'InitialPaymentAmount',\n",
       "       'RecurringPaymentAmount', 'Funnel', 'PricingSource', 'RecurringCycle',\n",
       "       'TrialPeriod', 'PublicEmail', 'WebSite', 'UserFotoUrl', 'UserCoverUrl',\n",
       "       'Description', 'Industry', 'PaymentStatus'],\n",
       "      dtype='object')"
      ]
     },
     "execution_count": 8,
     "metadata": {},
     "output_type": "execute_result"
    }
   ],
   "source": [
    "users_raw.columns"
   ]
  },
  {
   "cell_type": "markdown",
   "metadata": {},
   "source": [
    "# Cleaning and Combining Datasets"
   ]
  },
  {
   "cell_type": "code",
   "execution_count": 9,
   "metadata": {
    "scrolled": true
   },
   "outputs": [
    {
     "data": {
      "text/plain": [
       "Index(['FollowId', 'MemberId', 'EmazeMeGroupId', 'MemberSince'], dtype='object')"
      ]
     },
     "execution_count": 9,
     "metadata": {},
     "output_type": "execute_result"
    }
   ],
   "source": [
    "members_raw.columns"
   ]
  },
  {
   "cell_type": "code",
   "execution_count": 10,
   "metadata": {
    "scrolled": false
   },
   "outputs": [
    {
     "data": {
      "text/plain": [
       "FollowId           int64\n",
       "MemberId          object\n",
       "EmazeMeGroupId     int64\n",
       "MemberSince       object\n",
       "dtype: object"
      ]
     },
     "execution_count": 10,
     "metadata": {},
     "output_type": "execute_result"
    }
   ],
   "source": [
    "members_raw.dtypes"
   ]
  },
  {
   "cell_type": "code",
   "execution_count": 11,
   "metadata": {
    "scrolled": true
   },
   "outputs": [
    {
     "ename": "NameError",
     "evalue": "name 'members' is not defined",
     "output_type": "error",
     "traceback": [
      "\u001b[1;31m---------------------------------------------------------------------------\u001b[0m",
      "\u001b[1;31mNameError\u001b[0m                                 Traceback (most recent call last)",
      "\u001b[1;32m<ipython-input-11-44fec9278823>\u001b[0m in \u001b[0;36m<module>\u001b[1;34m\u001b[0m\n\u001b[1;32m----> 1\u001b[1;33m \u001b[0mmembers\u001b[0m\u001b[1;33m.\u001b[0m\u001b[0mdrop\u001b[0m\u001b[1;33m(\u001b[0m\u001b[0mmembers\u001b[0m\u001b[1;33m.\u001b[0m\u001b[0mindex\u001b[0m\u001b[1;33m[\u001b[0m\u001b[1;36m3\u001b[0m\u001b[1;33m:\u001b[0m\u001b[1;36m11\u001b[0m\u001b[1;33m]\u001b[0m\u001b[1;33m)\u001b[0m\u001b[1;33m\u001b[0m\u001b[1;33m\u001b[0m\u001b[0m\n\u001b[0m",
      "\u001b[1;31mNameError\u001b[0m: name 'members' is not defined"
     ]
    }
   ],
   "source": [
    "members.drop(members.index[3:11])"
   ]
  },
  {
   "cell_type": "code",
   "execution_count": null,
   "metadata": {},
   "outputs": [],
   "source": [
    "members.MemberSince = pd.to_datetime(members['MemberSince'])\n",
    "members.dtypes"
   ]
  },
  {
   "cell_type": "code",
   "execution_count": null,
   "metadata": {},
   "outputs": [],
   "source": [
    "members.rename(columns={'EmazeMeGroupId': 'GroupID'}, inplace=True)"
   ]
  },
  {
   "cell_type": "code",
   "execution_count": null,
   "metadata": {},
   "outputs": [],
   "source": [
    "pending = pending_raw\n",
    "pending.columns"
   ]
  },
  {
   "cell_type": "code",
   "execution_count": null,
   "metadata": {},
   "outputs": [],
   "source": [
    "pending.rename(columns={'EmazeMeGroupId': 'GroupID'}, inplace=True)"
   ]
  },
  {
   "cell_type": "code",
   "execution_count": null,
   "metadata": {
    "scrolled": true
   },
   "outputs": [],
   "source": [
    "groups_raw.columns"
   ]
  },
  {
   "cell_type": "code",
   "execution_count": null,
   "metadata": {},
   "outputs": [],
   "source": [
    "groups_raw.DateCreated = pd.to_datetime(groups['DateCreated'])\n",
    "groups_raw.DateUpdated = pd.to_datetime(groups['DateUpdated'])\n",
    "print(groups_raw.dtypes)"
   ]
  },
  {
   "cell_type": "code",
   "execution_count": null,
   "metadata": {},
   "outputs": [],
   "source": [
    "deletegroups = ['priority', 'varified', 'AssociatedGroupsJson', 'ModeratorsJson',\n",
    "                'EmazeSite', 'GroupCoverUrl', 'GroupPhotoUrl', 'SiteThumnail']\n",
    "\n",
    "groups = groups_raw.drop(deletegroups, axis=1)\n",
    "groups.rename(columns={'Privecy': 'Privacy'}, inplace=True)\n",
    "groups.head()"
   ]
  },
  {
   "cell_type": "code",
   "execution_count": null,
   "metadata": {},
   "outputs": [],
   "source": [
    "data = pd.concat([groups, members, pending],ignore_index=True)\n",
    "data.head()"
   ]
  },
  {
   "cell_type": "markdown",
   "metadata": {},
   "source": [
    "# Exploratory Data Analysis"
   ]
  },
  {
   "cell_type": "code",
   "execution_count": null,
   "metadata": {},
   "outputs": [],
   "source": [
    "data.shape"
   ]
  },
  {
   "cell_type": "code",
   "execution_count": null,
   "metadata": {},
   "outputs": [],
   "source": [
    "print(data.isnull().sum())"
   ]
  },
  {
   "cell_type": "code",
   "execution_count": null,
   "metadata": {},
   "outputs": [],
   "source": [
    "privacy = data.set_index('Privacy')\n",
    "mapping = {0.0: 'Public', 1.0: 'Closed', 2.0: 'Private'}\n",
    "privacy.groupby(mapping).count()"
   ]
  },
  {
   "cell_type": "code",
   "execution_count": null,
   "metadata": {},
   "outputs": [],
   "source": [
    "visibility = data.set_index('Visibility')\n",
    "mapping = {0.0: 'Visible', 1.0: 'Hidden'}\n",
    "visibility.groupby(mapping).count()"
   ]
  },
  {
   "cell_type": "code",
   "execution_count": null,
   "metadata": {
    "scrolled": true
   },
   "outputs": [],
   "source": [
    "number_members = data.groupby('GroupID')['MemberId'].count()\n",
    "number_members.sort_values(ascending=False)"
   ]
  },
  {
   "cell_type": "code",
   "execution_count": null,
   "metadata": {},
   "outputs": [],
   "source": [
    "data.groupby('MemberId')['GroupID'].count()"
   ]
  },
  {
   "cell_type": "code",
   "execution_count": null,
   "metadata": {},
   "outputs": [],
   "source": [
    "#Shows how many times each group is listed in the dataframe (and how many members it has)\n",
    "sns.distplot(data.GroupID)"
   ]
  },
  {
   "cell_type": "code",
   "execution_count": null,
   "metadata": {},
   "outputs": [],
   "source": []
  }
 ],
 "metadata": {
  "kernelspec": {
   "display_name": "Python 3",
   "language": "python",
   "name": "python3"
  },
  "language_info": {
   "codemirror_mode": {
    "name": "ipython",
    "version": 3
   },
   "file_extension": ".py",
   "mimetype": "text/x-python",
   "name": "python",
   "nbconvert_exporter": "python",
   "pygments_lexer": "ipython3",
   "version": "3.7.4"
  }
 },
 "nbformat": 4,
 "nbformat_minor": 4
}
